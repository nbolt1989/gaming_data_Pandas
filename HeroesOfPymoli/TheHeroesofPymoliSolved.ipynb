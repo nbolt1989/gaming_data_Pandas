{
 "cells": [
  {
   "cell_type": "code",
   "execution_count": null,
   "metadata": {},
   "outputs": [],
   "source": [
    "# Dependencies and Setup\n",
    "import pandas as pd\n",
    "\n",
    "# File to Load (*Remember to Change These)\n",
    "file = \"Resources/purchase_data.csv\"\n",
    "\n",
    "# Read Purchasing File and store into Pandas data frame\n",
    "games_df = pd.read_csv(file)\n",
    "games_df.columns \n",
    "#I just want to print out all of the columns so I have them in a list and can refer back when I want. \n",
    "# This is more for my preference\n",
    "\n",
    "#Found this formatting method that I am going to try and use further down when cleaning my data:\n",
    "#https://towardsdatascience.com/style-pandas-dataframe-like-a-master-6b02bf6468b0"
   ]
  },
  {
   "cell_type": "code",
   "execution_count": null,
   "metadata": {},
   "outputs": [],
   "source": [
    "#CHALLENGE 1: Player Count --DONE\n",
    "#Display the total number of players\n",
    "#I just want to display an example of the DF. \n",
    "#I am going to drop all on my duplicates SN's then double check the new DF count for SNs. \n",
    "nodups_df = games_df.drop_duplicates(\"SN\",inplace = False) \n",
    "#inplace = False will return a copy of the DF but with the duplicates dropped\n",
    "nodups_df['SN'].count()\n",
    "# I want to create a new DF here to displau total unique players\n",
    "totalplayers_df=pd.DataFrame({'Total Players': [nodups_df['SN'].count()]})\n",
    "#print out new DF\n",
    "totalplayers_df"
   ]
  },
  {
   "cell_type": "code",
   "execution_count": null,
   "metadata": {},
   "outputs": [],
   "source": [
    "#CHALLENGE 2: Purchasing Analysis (Total) --DONE\n",
    "#Run basic calculations to obtain number of unique items, average price, etc\n",
    "#Create a summary data frame to hold the results\n",
    "    #Optional: give the displayed data cleaner formatting\n",
    "    #Display the summary data frame\n",
    "# I need to establish the formulas as variables and place them into a dictionary. I plan to start groupbys\n",
    "#further down.\n",
    "items = games_df[\"Item Name\"].nunique() #Saw this trick here: https://stackoverflow.com/questions/38309729/count-unique-values-with-pandas-per-groups\n",
    "prices = round(games_df[\"Price\"].mean(),2)\n",
    "purchases = games_df[\"Purchase ID\"].count()\n",
    "revenue = games_df[\"Price\"].sum()\n",
    "#I now want to create a dictionary with new column titles for each new variable; the variables will be the \n",
    "#the values. I will then create a new dataframe and assign the new dictionary to it. This is similar to \n",
    "#the breakout where we created a dictionary of states and abbreviations. \n",
    "#I need to f string and the new format method for inserting special characters that Mindie showed us.\n",
    "newdict = [{'Number of Unique Items': items, \"Average Price\": (f'${prices}'), \n",
    "           \"Number of Purchases\": purchases,  \"Total Revenue\": revenue}]\n",
    "newdata_df = pd.DataFrame(newdict)\n",
    "newdata_df.style.format({\"Total Revenue\":\"${:,}\"})"
   ]
  },
  {
   "cell_type": "code",
   "execution_count": null,
   "metadata": {},
   "outputs": [],
   "source": [
    "# CHALLENGE 3: GENDER DEMOGRAPHICS: --DONE\n",
    "    #Percentage and Count of Male Players\n",
    "    #Percentage and Count of Female Players\n",
    "    #Percentage and Count of Other / Non-Disclosed\n",
    "# Since this is broken down to look at gender I will need to do a groupby gender here from the no duplicates DF\n",
    "#This is my variable for total unique count\n",
    "# My variable for the total of unique gamers by gender. I am placing this outside of my groupby to reference later, if need be.\n",
    "genders = nodups_df['Gender'].count()\n",
    "# My groupby here.\n",
    "groupgender = nodups_df.groupby([\"Gender\"]) \n",
    "groupgender_count = groupgender['SN'].count()\n",
    "genderpercent = (groupgender_count/genders)*100\n",
    "gend_df = pd.DataFrame({\"Total Count\": groupgender_count, \"Percentage of Players\":genderpercent})\n",
    "# Clean the data\n",
    "gend_df.head().style.format({'Percentage of Players':\"{:.2f}%\"})\n"
   ]
  },
  {
   "cell_type": "code",
   "execution_count": null,
   "metadata": {},
   "outputs": [],
   "source": [
    "#CHALLENGE 4: PURCHASING ANALYSIS (GENDER)\n",
    "#Run basic calculations to obtain purchase count, avg. purchase price, avg. purchase total per person etc. \n",
    "#by gender\n",
    "#Create a summary data frame to hold the results\n",
    "    #Optional: give the displayed data cleaner formatting\n",
    "    #Display the summary data frame\n",
    "groupgender2 = games_df.groupby(['Gender']) \n",
    "groupgender_count2 = groupgender2.SN.count() \n",
    "ggtotal = groupgender2.Price.sum()\n",
    "gendaveragepurchase = ggtotal / groupgender_count2\n",
    "totalavg = ggtotal / gend_df['Total Count']\n",
    "gend2_df = pd.DataFrame({\"Purchase Count\": groupgender_count2,\n",
    "                         \"Average Purchase Price\": gendaveragepurchase,\n",
    "                        \"Total Purchase Value\":ggtotal,\n",
    "                        'Avg Total Purchase per Person': totalavg})\n",
    "gend2_df.head().style.format({'Average Purchase Price': '${:,.2f}',\n",
    "                              'Total Purchase Value': '${:,.2f}',\n",
    "                              'Avg Total Purchase per Person':'${:,.2f}'})"
   ]
  },
  {
   "cell_type": "code",
   "execution_count": null,
   "metadata": {},
   "outputs": [],
   "source": [
    "# CHALLENGE 5: AGE DEMOGRAPHICS\n",
    "    #Establish bins for ages - DONE\n",
    "    #Categorize the existing players using the age bins. Hint: use pd.cut() - DONE\n",
    "    #Calculate the numbers and percentages by age group - DONE\n",
    "    #Create a summary data frame to hold the results - DONE\n",
    "    #Optional: round the percentage column to two decimal points\n",
    "    #Display Age Demographics Table"
   ]
  },
  {
   "cell_type": "code",
   "execution_count": null,
   "metadata": {},
   "outputs": [],
   "source": [
    "#Create my bins and ages: the bins will the be age ranges and the names will be the titles of the age ranges\n",
    "agebins = [0, 9, 14, 19, 24, 29, 34, 39, 99]\n",
    "group_names = [\"<10\", \"10-14\", \"15-19\", \"20-24\", \"25-29\",\"30-34\",\"35-39\",\"40+\"]\n",
    "#I want to use my nodups_df, create a new column and essentially append the column of 'Age' and have them placed\n",
    "#into the age buckets I created. The age buckets do not have a title in the homework so I am making them = '' \n",
    "#I am using the hint and doing the pd.cut method\n",
    "nodups_df[''] = pd.cut(nodups_df['Age'], agebins, labels=group_names)\n",
    "#Here I will need to groupby my newly created column--this is like the gender count above so I will also need\n",
    "#some variables within the groupby to get my count and percentage\n",
    "groupbyage_df = nodups_df.groupby('')\n",
    "tc = groupbyage_df[\"Age\"].count()\n",
    "percp = tc/genders*100\n",
    "agedemo_df = pd.DataFrame({'Total Count': tc,'Percentage of Players':percp})\n",
    "#Clean the column\n",
    "agedemo_df.style.format({'Percentage of Players':\"{:.2f}%\"})"
   ]
  },
  {
   "cell_type": "code",
   "execution_count": null,
   "metadata": {},
   "outputs": [],
   "source": [
    "# CHALLENGE 6: Purchasing Analysis (Age)\n",
    "    #Bin the purchase_data data frame by age\n",
    "    #Run basic calculations to obtain purchase count, avg. purchase price, avg. purchase total per person etc. in the table below\n",
    "    #Create a summary data frame to hold the results\n",
    "    #Optional: give the displayed data cleaner formatting\n",
    "    #Display the summary data frame"
   ]
  },
  {
   "cell_type": "code",
   "execution_count": null,
   "metadata": {},
   "outputs": [],
   "source": [
    "#This activity is going to be similar to gender purchase analysis with the same breakdown of variables within \n",
    "# a groupby. \n",
    "agebins2 = [0, 9, 14, 19, 24, 29, 34, 39, 99]\n",
    "group_names2 = [\"<10\", \"10-14\", \"15-19\", \"20-24\", \"25-29\",\"30-34\",\"35-39\",\"40+\"]\n",
    "games_df['Age Ranges'] = pd.cut(games_df['Age'], agebins2, labels=group_names2)\n",
    "# I will need to do another groupby \n",
    "groupbyage2 = games_df.groupby('Age Ranges')\n",
    "# Variables and formulas from my Groupby\n",
    "agetc2 = groupbyage2['Age'].count()\n",
    "agetpv = groupbyage2['Price'].sum()\n",
    "ageavepurch = agetpv/agetc2\n",
    "totalageavepurch = agetpv / tc\n",
    "agedemo2_df = pd.DataFrame({'Purchase Count': agetc2,\"Average Purchase Price\": ageavepurch,\n",
    "                            'Total Purchase Value':agetpv,'Avg Total Purchase per Person':totalageavepurch})\n",
    "#Clean up the dataframe\n",
    "agedemo2_df.style.format({\"Average Purchase Price\":\"${:,.2f}\",'Total Purchase Value':\"${:,.2f}\", \n",
    "                          'Avg Total Purchase per Person':\"${:,.2f}\"})"
   ]
  },
  {
   "cell_type": "code",
   "execution_count": null,
   "metadata": {},
   "outputs": [],
   "source": [
    "# CHALLENGE 7:  Top Spenders\n",
    "    #Run basic calculations to obtain the results in the table below\n",
    "    #Create a summary data frame to hold the results\n",
    "    #Sort the total purchase value column in descending order\n",
    "    #Optional: give the displayed data cleaner formatting\n",
    "    #Display a preview of the summary data frame"
   ]
  },
  {
   "cell_type": "code",
   "execution_count": null,
   "metadata": {},
   "outputs": [],
   "source": [
    "#Group by screen name and display values similar to the above purchase analysis\n",
    "#sort the last column by descending\n",
    "topgroup = games_df.groupby(['SN'])\n",
    "topgrouppc = topgroup['Item Name'].count()\n",
    "topgrouptotal = topgroup['Price'].sum()\n",
    "topgroupavg = topgrouptotal / topgrouppc\n",
    "topspender_df = pd.DataFrame({'Purchase Count': topgrouppc,'Average Purchase Price': topgroupavg,\n",
    "                             'Total Purchase Value': topgrouptotal})\n",
    "#Sort\n",
    "topspender_df.sort_values(by='Total Purchase Value', ascending=False, inplace=True)\n",
    "#Clean--I inserted bar graphs to give a better descending visualization of the data\n",
    "#https://towardsdatascience.com/style-pandas-dataframe-like-a-master-6b02bf6468b0\n",
    "topspender_df.head().style.format({'Average Purchase Price':'${:,.2f}','Total Purchase Value':'${:,.2f}'})\\\n",
    "    .bar(subset=['Total Purchase Value',],color ='lightgreen')"
   ]
  },
  {
   "cell_type": "code",
   "execution_count": null,
   "metadata": {},
   "outputs": [],
   "source": [
    "# CHALLENGE 8: Most Popular Items\n",
    "    #Retrieve the Item ID, Item Name, and Item Price columns\n",
    "    #Group by Item ID and Item Name. Perform calculations to obtain purchase count, item price, \n",
    "    # and total purchase value\n",
    "    #Create a summary data frame to hold the results\n",
    "    #Sort the purchase count column in descending order\n",
    "    #Optional: give the displayed data cleaner formatting\n",
    "    #Display a preview of the summary data frame\n",
    "#Very similar to the above; groupby and variables\n",
    "mostpop = games_df.groupby(['Item ID','Item Name'])\n",
    "itemprice = mostpop['Price'].mean()\n",
    "mostpurch = mostpop['Item Name'].count()\n",
    "totalpvalue = itemprice * mostpurch\n",
    "mostpopitems_df = pd.DataFrame({'Purchase Count':mostpurch,\n",
    "                            'Item Price': itemprice,\n",
    "                            'Total Purchase Value': totalpvalue})\n",
    "#Sort\n",
    "mostpopitems_df.sort_values(by='Purchase Count', ascending = False,inplace=True) \n",
    "#Clean\n",
    "mostpopitems_df.head().style.format({'Item Price':\"${:,.2f}\",'Total Purchase Value': '${:,.2f}'})\\\n",
    "    .bar(subset=['Purchase Count',],color ='lightgreen')"
   ]
  },
  {
   "cell_type": "code",
   "execution_count": null,
   "metadata": {},
   "outputs": [],
   "source": [
    "# CHALLENGE 9:  Most Profitable Items\n",
    "#Sort the above table by total purchase value in descending order\n",
    "#Optional: give the displayed data cleaner formatting\n",
    "#Display a preview of the data frame\n",
    "#Same DF as above but I will need to sort by 'Total Purchase Value'\n",
    "mostpopitems_df.sort_values(by='Total Purchase Value', ascending = False, inplace=True) \n",
    "#Clean\n",
    "mostpopitems_df.head().style.format({'Total Purchase Value':\"${:,.2f}\",'Item Price':\"${:,.2f}\"})\\\n",
    "    .bar(subset=['Total Purchase Value',],color ='lightgreen')"
   ]
  },
  {
   "cell_type": "code",
   "execution_count": null,
   "metadata": {},
   "outputs": [],
   "source": []
  }
 ],
 "metadata": {
  "kernelspec": {
   "display_name": "Python 3.6.10 64-bit ('PythonData': conda)",
   "language": "python",
   "name": "python361064bitpythondatacondace2211bfc12e47899cb7e87ecf03a1f4"
  },
  "language_info": {
   "codemirror_mode": {
    "name": "ipython",
    "version": 3
   },
   "file_extension": ".py",
   "mimetype": "text/x-python",
   "name": "python",
   "nbconvert_exporter": "python",
   "pygments_lexer": "ipython3",
   "version": "3.6.10"
  }
 },
 "nbformat": 4,
 "nbformat_minor": 4
}
