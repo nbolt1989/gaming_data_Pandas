{
 "cells": [
  {
   "cell_type": "code",
   "execution_count": 3,
   "metadata": {},
   "outputs": [],
   "source": [
    "# Dependencies and Setup\n",
    "import pandas as pd\n",
    "\n",
    "# File to Load (Remember to Change These)\n",
    "heroesfile = \"Resources/purchase_data.csv\"\n",
    "\n",
    "# Read Purchasing File and store into Pandas data frame\n",
    "purchase_data = pd.read_csv(heroesfile)"
   ]
  },
  {
   "cell_type": "code",
   "execution_count": 4,
   "metadata": {},
   "outputs": [],
   "source": [
    "# Display the total number of players"
   ]
  },
  {
   "cell_type": "code",
   "execution_count": 5,
   "metadata": {},
   "outputs": [],
   "source": [
    "#Purchasing Analysis (Total)\n",
    "#Run basic calculations to obtain number of unique items, average price, etc.\n",
    "#Create a summary data frame to hold the results\n",
    "    #Optional: give the displayed data cleaner formatting\n",
    "    #Display the summary data frame"
   ]
  },
  {
   "cell_type": "code",
   "execution_count": 6,
   "metadata": {},
   "outputs": [],
   "source": [
    "#Gender Demographics\n",
    "    #Percentage and Count of Male Players\n",
    "    #Percentage and Count of Female Players\n",
    "    #Percentage and Count of Other / Non-Disclosed"
   ]
  },
  {
   "cell_type": "code",
   "execution_count": 7,
   "metadata": {},
   "outputs": [],
   "source": [
    "#Purchasing Analysis (Gender)\n",
    "    #Run basic calculations to obtain purchase count, avg. purchase price, avg. purchase total per person etc. \n",
    "    #by gender\n",
    "    #Create a summary data frame to hold the results\n",
    "    #Optional: give the displayed data cleaner formatting\n",
    "    #Display the summary data frame"
   ]
  },
  {
   "cell_type": "code",
   "execution_count": 8,
   "metadata": {},
   "outputs": [],
   "source": [
    "#Age Demographics\n",
    "    #Establish bins for ages\n",
    "    #Categorize the existing players using the age bins. Hint: use pd.cut()\n",
    "    #Calculate the numbers and percentages by age group\n",
    "    #Create a summary data frame to hold the results\n",
    "        #Optional: round the percentage column to two decimal points\n",
    "        #Display Age Demographics Table"
   ]
  },
  {
   "cell_type": "code",
   "execution_count": 9,
   "metadata": {},
   "outputs": [],
   "source": [
    "#Purchasing Analysis (Age)\n",
    "    #Bin the purchase_data data frame by age\n",
    "    #Run basic calculations to obtain purchase count, avg. purchase price, avg. purchase total per person etc. \n",
    "    #in the table below\n",
    "    #Create a summary data frame to hold the results\n",
    "       #Optional: give the displayed data cleaner formatting\n",
    "        #Display the summary data frame"
   ]
  },
  {
   "cell_type": "code",
   "execution_count": 10,
   "metadata": {},
   "outputs": [],
   "source": [
    "#Top Spenders\n",
    "    #Run basic calculations to obtain the results in the table below\n",
    "    #Create a summary data frame to hold the results\n",
    "    #Sort the total purchase value column in descending order\n",
    "        #Optional: give the displayed data cleaner formatting\n",
    "        #Display a preview of the summary data frame"
   ]
  },
  {
   "cell_type": "code",
   "execution_count": 11,
   "metadata": {},
   "outputs": [],
   "source": [
    "#Most Popular Items\n",
    "    #Retrieve the Item ID, Item Name, and Item Price columns\n",
    "    #Group by Item ID and Item Name. Perform calculations to obtain purchase count, item price, and total purchase value\n",
    "    #Create a summary data frame to hold the results\n",
    "    #Sort the purchase count column in descending order\n",
    "        #Optional: give the displayed data cleaner formatting\n",
    "        #Display a preview of the summary data frame"
   ]
  },
  {
   "cell_type": "code",
   "execution_count": 12,
   "metadata": {},
   "outputs": [],
   "source": [
    "#Most Profitable Items\n",
    "    #Sort the above table by total purchase value in descending order\n",
    "        #Optional: give the displayed data cleaner formatting\n",
    "        #Display a preview of the data frame"
   ]
  },
  {
   "cell_type": "code",
   "execution_count": null,
   "metadata": {},
   "outputs": [],
   "source": []
  }
 ],
 "metadata": {
  "kernelspec": {
   "display_name": "Python [conda env:PythonData] *",
   "language": "python",
   "name": "conda-env-PythonData-py"
  },
  "language_info": {
   "codemirror_mode": {
    "name": "ipython",
    "version": 3
   },
   "file_extension": ".py",
   "mimetype": "text/x-python",
   "name": "python",
   "nbconvert_exporter": "python",
   "pygments_lexer": "ipython3",
   "version": "3.6.10"
  }
 },
 "nbformat": 4,
 "nbformat_minor": 4
}
