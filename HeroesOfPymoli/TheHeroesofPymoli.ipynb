{
 "cells": [
  {
   "cell_type": "code",
   "execution_count": 1,
   "metadata": {},
   "outputs": [
    {
     "data": {
      "text/plain": [
       "Index(['Purchase ID', 'SN', 'Age', 'Gender', 'Item ID', 'Item Name', 'Price'], dtype='object')"
      ]
     },
     "execution_count": 1,
     "metadata": {},
     "output_type": "execute_result"
    }
   ],
   "source": [
    "# Dependencies and Setup\n",
    "import pandas as pd\n",
    "\n",
    "# File to Load (*Remember to Change These)\n",
    "file = \"Resources/purchase_data.csv\"\n",
    "\n",
    "# Read Purchasing File and store into Pandas data frame\n",
    "games_df = pd.read_csv(file)\n",
    "games_df.columns \n",
    "#I just want to print out all of the columns so I have them in a list and can refer back when I want. \n",
    "# This is more for my preference\n",
    "\n",
    "#Found this formatting method that I am going to try and use further down when cleaning my data:\n",
    "#https://towardsdatascience.com/style-pandas-dataframe-like-a-master-6b02bf6468b0"
   ]
  },
  {
   "cell_type": "code",
   "execution_count": 2,
   "metadata": {},
   "outputs": [
    {
     "data": {
      "text/html": [
       "<div>\n",
       "<style scoped>\n",
       "    .dataframe tbody tr th:only-of-type {\n",
       "        vertical-align: middle;\n",
       "    }\n",
       "\n",
       "    .dataframe tbody tr th {\n",
       "        vertical-align: top;\n",
       "    }\n",
       "\n",
       "    .dataframe thead th {\n",
       "        text-align: right;\n",
       "    }\n",
       "</style>\n",
       "<table border=\"1\" class=\"dataframe\">\n",
       "  <thead>\n",
       "    <tr style=\"text-align: right;\">\n",
       "      <th></th>\n",
       "      <th>Total Players</th>\n",
       "    </tr>\n",
       "  </thead>\n",
       "  <tbody>\n",
       "    <tr>\n",
       "      <th>0</th>\n",
       "      <td>576</td>\n",
       "    </tr>\n",
       "  </tbody>\n",
       "</table>\n",
       "</div>"
      ],
      "text/plain": [
       "   Total Players\n",
       "0            576"
      ]
     },
     "execution_count": 2,
     "metadata": {},
     "output_type": "execute_result"
    }
   ],
   "source": [
    "#CHALLENGE 1: Player Count --DONE\n",
    "#Display the total number of players\n",
    "#I just want to display an example of the DF. \n",
    "#I am going to drop all on my duplicates SN's then double check the new DF count for SNs. \n",
    "nodups_df = games_df.drop_duplicates(\"SN\",inplace = False) \n",
    "#inplace = False will return a copy of the DF but with the duplicates dropped\n",
    "nodups_df['SN'].count()\n",
    "# I want to create a new DF here to displau total unique players\n",
    "totalplayers_df=pd.DataFrame({'Total Players': [nodups_df['SN'].count()]})\n",
    "#print out new DF\n",
    "totalplayers_df"
   ]
  },
  {
   "cell_type": "code",
   "execution_count": 3,
   "metadata": {},
   "outputs": [
    {
     "data": {
      "text/html": [
       "<style  type=\"text/css\" >\n",
       "</style><table id=\"T_dd8c6434_b97f_11ea_bf14_acde48001122\" ><thead>    <tr>        <th class=\"blank level0\" ></th>        <th class=\"col_heading level0 col0\" >Number of Unique Items</th>        <th class=\"col_heading level0 col1\" >Average Price</th>        <th class=\"col_heading level0 col2\" >Number of Purchases</th>        <th class=\"col_heading level0 col3\" >Total Revenue</th>    </tr></thead><tbody>\n",
       "                <tr>\n",
       "                        <th id=\"T_dd8c6434_b97f_11ea_bf14_acde48001122level0_row0\" class=\"row_heading level0 row0\" >0</th>\n",
       "                        <td id=\"T_dd8c6434_b97f_11ea_bf14_acde48001122row0_col0\" class=\"data row0 col0\" >179</td>\n",
       "                        <td id=\"T_dd8c6434_b97f_11ea_bf14_acde48001122row0_col1\" class=\"data row0 col1\" >$3.05</td>\n",
       "                        <td id=\"T_dd8c6434_b97f_11ea_bf14_acde48001122row0_col2\" class=\"data row0 col2\" >780</td>\n",
       "                        <td id=\"T_dd8c6434_b97f_11ea_bf14_acde48001122row0_col3\" class=\"data row0 col3\" >$2,379.77</td>\n",
       "            </tr>\n",
       "    </tbody></table>"
      ],
      "text/plain": [
       "<pandas.io.formats.style.Styler at 0x7fde201614e0>"
      ]
     },
     "execution_count": 3,
     "metadata": {},
     "output_type": "execute_result"
    }
   ],
   "source": [
    "#CHALLENGE 2: Purchasing Analysis (Total) --DONE\n",
    "#Run basic calculations to obtain number of unique items, average price, etc\n",
    "#Create a summary data frame to hold the results\n",
    "    #Optional: give the displayed data cleaner formatting\n",
    "    #Display the summary data frame\n",
    "# I need to establish the formulas as variables and place them into a dictionary. I plan to start groupbys\n",
    "#further down.\n",
    "items = games_df[\"Item Name\"].nunique() #Saw this trick here: https://stackoverflow.com/questions/38309729/count-unique-values-with-pandas-per-groups\n",
    "prices = round(games_df[\"Price\"].mean(),2)\n",
    "purchases = games_df[\"Purchase ID\"].count()\n",
    "revenue = games_df[\"Price\"].sum()\n",
    "#I now want to create a dictionary with new column titles for each new variable; the variables will be the \n",
    "#the values. I will then create a new dataframe and assign the new dictionary to it. This is similar to \n",
    "#the breakout where we created a dictionary of states and abbreviations. \n",
    "#I need to f string and the new format method for inserting special characters that Mindie showed us.\n",
    "newdict = [{'Number of Unique Items': items, \"Average Price\": (f'${prices}'), \n",
    "           \"Number of Purchases\": purchases,  \"Total Revenue\": revenue}]\n",
    "newdata_df = pd.DataFrame(newdict)\n",
    "newdata_df.style.format({\"Total Revenue\":\"${:,}\"})"
   ]
  },
  {
   "cell_type": "code",
   "execution_count": 4,
   "metadata": {},
   "outputs": [
    {
     "data": {
      "text/html": [
       "<style  type=\"text/css\" >\n",
       "</style><table id=\"T_dd966e8c_b97f_11ea_87ee_acde48001122\" ><thead>    <tr>        <th class=\"blank level0\" ></th>        <th class=\"col_heading level0 col0\" >Total Count</th>        <th class=\"col_heading level0 col1\" >Percentage of Players</th>    </tr>    <tr>        <th class=\"index_name level0\" >Gender</th>        <th class=\"blank\" ></th>        <th class=\"blank\" ></th>    </tr></thead><tbody>\n",
       "                <tr>\n",
       "                        <th id=\"T_dd966e8c_b97f_11ea_87ee_acde48001122level0_row0\" class=\"row_heading level0 row0\" >Female</th>\n",
       "                        <td id=\"T_dd966e8c_b97f_11ea_87ee_acde48001122row0_col0\" class=\"data row0 col0\" >81</td>\n",
       "                        <td id=\"T_dd966e8c_b97f_11ea_87ee_acde48001122row0_col1\" class=\"data row0 col1\" >14.06%</td>\n",
       "            </tr>\n",
       "            <tr>\n",
       "                        <th id=\"T_dd966e8c_b97f_11ea_87ee_acde48001122level0_row1\" class=\"row_heading level0 row1\" >Male</th>\n",
       "                        <td id=\"T_dd966e8c_b97f_11ea_87ee_acde48001122row1_col0\" class=\"data row1 col0\" >484</td>\n",
       "                        <td id=\"T_dd966e8c_b97f_11ea_87ee_acde48001122row1_col1\" class=\"data row1 col1\" >84.03%</td>\n",
       "            </tr>\n",
       "            <tr>\n",
       "                        <th id=\"T_dd966e8c_b97f_11ea_87ee_acde48001122level0_row2\" class=\"row_heading level0 row2\" >Other / Non-Disclosed</th>\n",
       "                        <td id=\"T_dd966e8c_b97f_11ea_87ee_acde48001122row2_col0\" class=\"data row2 col0\" >11</td>\n",
       "                        <td id=\"T_dd966e8c_b97f_11ea_87ee_acde48001122row2_col1\" class=\"data row2 col1\" >1.91%</td>\n",
       "            </tr>\n",
       "    </tbody></table>"
      ],
      "text/plain": [
       "<pandas.io.formats.style.Styler at 0x7fde20161400>"
      ]
     },
     "execution_count": 4,
     "metadata": {},
     "output_type": "execute_result"
    }
   ],
   "source": [
    "# CHALLENGE 3: GENDER DEMOGRAPHICS: --DONE\n",
    "    #Percentage and Count of Male Players\n",
    "    #Percentage and Count of Female Players\n",
    "    #Percentage and Count of Other / Non-Disclosed\n",
    "# Since this is broken down to look at gender I will need to do a groupby gender here from the no duplicates DF\n",
    "#This is my variable for total unique count\n",
    "# My variable for the total of unique gamers by gender. I am placing this outside of my groupby to reference later, if need be.\n",
    "genders = nodups_df['Gender'].count()\n",
    "# My groupby here.\n",
    "groupgender = nodups_df.groupby([\"Gender\"]) \n",
    "groupgender_count = groupgender['SN'].count()\n",
    "genderpercent = (groupgender_count/genders)*100\n",
    "gend_df = pd.DataFrame({\"Total Count\": groupgender_count, \"Percentage of Players\":genderpercent})\n",
    "# Clean the data\n",
    "gend_df.head().style.format({'Percentage of Players':\"{:.2f}%\"})\n"
   ]
  },
  {
   "cell_type": "code",
   "execution_count": 5,
   "metadata": {},
   "outputs": [
    {
     "data": {
      "text/html": [
       "<style  type=\"text/css\" >\n",
       "</style><table id=\"T_dda624fa_b97f_11ea_93e0_acde48001122\" ><thead>    <tr>        <th class=\"blank level0\" ></th>        <th class=\"col_heading level0 col0\" >Purchase Count</th>        <th class=\"col_heading level0 col1\" >Average Purchase Price</th>        <th class=\"col_heading level0 col2\" >Total Purchase Value</th>        <th class=\"col_heading level0 col3\" >Avg Total Purchase per Person</th>    </tr>    <tr>        <th class=\"index_name level0\" >Gender</th>        <th class=\"blank\" ></th>        <th class=\"blank\" ></th>        <th class=\"blank\" ></th>        <th class=\"blank\" ></th>    </tr></thead><tbody>\n",
       "                <tr>\n",
       "                        <th id=\"T_dda624fa_b97f_11ea_93e0_acde48001122level0_row0\" class=\"row_heading level0 row0\" >Female</th>\n",
       "                        <td id=\"T_dda624fa_b97f_11ea_93e0_acde48001122row0_col0\" class=\"data row0 col0\" >113</td>\n",
       "                        <td id=\"T_dda624fa_b97f_11ea_93e0_acde48001122row0_col1\" class=\"data row0 col1\" >$3.20</td>\n",
       "                        <td id=\"T_dda624fa_b97f_11ea_93e0_acde48001122row0_col2\" class=\"data row0 col2\" >$361.94</td>\n",
       "                        <td id=\"T_dda624fa_b97f_11ea_93e0_acde48001122row0_col3\" class=\"data row0 col3\" >$4.47</td>\n",
       "            </tr>\n",
       "            <tr>\n",
       "                        <th id=\"T_dda624fa_b97f_11ea_93e0_acde48001122level0_row1\" class=\"row_heading level0 row1\" >Male</th>\n",
       "                        <td id=\"T_dda624fa_b97f_11ea_93e0_acde48001122row1_col0\" class=\"data row1 col0\" >652</td>\n",
       "                        <td id=\"T_dda624fa_b97f_11ea_93e0_acde48001122row1_col1\" class=\"data row1 col1\" >$3.02</td>\n",
       "                        <td id=\"T_dda624fa_b97f_11ea_93e0_acde48001122row1_col2\" class=\"data row1 col2\" >$1,967.64</td>\n",
       "                        <td id=\"T_dda624fa_b97f_11ea_93e0_acde48001122row1_col3\" class=\"data row1 col3\" >$4.07</td>\n",
       "            </tr>\n",
       "            <tr>\n",
       "                        <th id=\"T_dda624fa_b97f_11ea_93e0_acde48001122level0_row2\" class=\"row_heading level0 row2\" >Other / Non-Disclosed</th>\n",
       "                        <td id=\"T_dda624fa_b97f_11ea_93e0_acde48001122row2_col0\" class=\"data row2 col0\" >15</td>\n",
       "                        <td id=\"T_dda624fa_b97f_11ea_93e0_acde48001122row2_col1\" class=\"data row2 col1\" >$3.35</td>\n",
       "                        <td id=\"T_dda624fa_b97f_11ea_93e0_acde48001122row2_col2\" class=\"data row2 col2\" >$50.19</td>\n",
       "                        <td id=\"T_dda624fa_b97f_11ea_93e0_acde48001122row2_col3\" class=\"data row2 col3\" >$4.56</td>\n",
       "            </tr>\n",
       "    </tbody></table>"
      ],
      "text/plain": [
       "<pandas.io.formats.style.Styler at 0x7fde20fefcc0>"
      ]
     },
     "execution_count": 5,
     "metadata": {},
     "output_type": "execute_result"
    }
   ],
   "source": [
    "#CHALLENGE 4: PURCHASING ANALYSIS (GENDER)\n",
    "#Run basic calculations to obtain purchase count, avg. purchase price, avg. purchase total per person etc. \n",
    "#by gender\n",
    "#Create a summary data frame to hold the results\n",
    "    #Optional: give the displayed data cleaner formatting\n",
    "    #Display the summary data frame\n",
    "groupgender2 = games_df.groupby(['Gender']) \n",
    "groupgender_count2 = groupgender2.SN.count() \n",
    "ggtotal = groupgender2.Price.sum()\n",
    "gendaveragepurchase = ggtotal / groupgender_count2\n",
    "totalavg = ggtotal / gend_df['Total Count']\n",
    "gend2_df = pd.DataFrame({\"Purchase Count\": groupgender_count2,\n",
    "                         \"Average Purchase Price\": gendaveragepurchase,\n",
    "                        \"Total Purchase Value\":ggtotal,\n",
    "                        'Avg Total Purchase per Person': totalavg})\n",
    "gend2_df.head().style.format({'Average Purchase Price': '${:,.2f}',\n",
    "                              'Total Purchase Value': '${:,.2f}',\n",
    "                              'Avg Total Purchase per Person':'${:,.2f}'})"
   ]
  },
  {
   "cell_type": "code",
   "execution_count": 6,
   "metadata": {},
   "outputs": [],
   "source": [
    "# CHALLENGE 5: AGE DEMOGRAPHICS\n",
    "    #Establish bins for ages - DONE\n",
    "    #Categorize the existing players using the age bins. Hint: use pd.cut() - DONE\n",
    "    #Calculate the numbers and percentages by age group - DONE\n",
    "    #Create a summary data frame to hold the results - DONE\n",
    "    #Optional: round the percentage column to two decimal points\n",
    "    #Display Age Demographics Table"
   ]
  },
  {
   "cell_type": "code",
   "execution_count": 7,
   "metadata": {},
   "outputs": [
    {
     "name": "stderr",
     "output_type": "stream",
     "text": [
      "/Users/nathanbolt/opt/anaconda3/envs/PythonData/lib/python3.6/site-packages/ipykernel_launcher.py:7: SettingWithCopyWarning: \n",
      "A value is trying to be set on a copy of a slice from a DataFrame.\n",
      "Try using .loc[row_indexer,col_indexer] = value instead\n",
      "\n",
      "See the caveats in the documentation: https://pandas.pydata.org/pandas-docs/stable/user_guide/indexing.html#returning-a-view-versus-a-copy\n",
      "  import sys\n"
     ]
    },
    {
     "data": {
      "text/html": [
       "<style  type=\"text/css\" >\n",
       "</style><table id=\"T_ddaf2438_b97f_11ea_a2c2_acde48001122\" ><thead>    <tr>        <th class=\"blank level0\" ></th>        <th class=\"col_heading level0 col0\" >Total Count</th>        <th class=\"col_heading level0 col1\" >Percentage of Players</th>    </tr>    <tr>        <th class=\"index_name level0\" ></th>        <th class=\"blank\" ></th>        <th class=\"blank\" ></th>    </tr></thead><tbody>\n",
       "                <tr>\n",
       "                        <th id=\"T_ddaf2438_b97f_11ea_a2c2_acde48001122level0_row0\" class=\"row_heading level0 row0\" ><10</th>\n",
       "                        <td id=\"T_ddaf2438_b97f_11ea_a2c2_acde48001122row0_col0\" class=\"data row0 col0\" >17</td>\n",
       "                        <td id=\"T_ddaf2438_b97f_11ea_a2c2_acde48001122row0_col1\" class=\"data row0 col1\" >2.95%</td>\n",
       "            </tr>\n",
       "            <tr>\n",
       "                        <th id=\"T_ddaf2438_b97f_11ea_a2c2_acde48001122level0_row1\" class=\"row_heading level0 row1\" >10-14</th>\n",
       "                        <td id=\"T_ddaf2438_b97f_11ea_a2c2_acde48001122row1_col0\" class=\"data row1 col0\" >22</td>\n",
       "                        <td id=\"T_ddaf2438_b97f_11ea_a2c2_acde48001122row1_col1\" class=\"data row1 col1\" >3.82%</td>\n",
       "            </tr>\n",
       "            <tr>\n",
       "                        <th id=\"T_ddaf2438_b97f_11ea_a2c2_acde48001122level0_row2\" class=\"row_heading level0 row2\" >15-19</th>\n",
       "                        <td id=\"T_ddaf2438_b97f_11ea_a2c2_acde48001122row2_col0\" class=\"data row2 col0\" >107</td>\n",
       "                        <td id=\"T_ddaf2438_b97f_11ea_a2c2_acde48001122row2_col1\" class=\"data row2 col1\" >18.58%</td>\n",
       "            </tr>\n",
       "            <tr>\n",
       "                        <th id=\"T_ddaf2438_b97f_11ea_a2c2_acde48001122level0_row3\" class=\"row_heading level0 row3\" >20-24</th>\n",
       "                        <td id=\"T_ddaf2438_b97f_11ea_a2c2_acde48001122row3_col0\" class=\"data row3 col0\" >258</td>\n",
       "                        <td id=\"T_ddaf2438_b97f_11ea_a2c2_acde48001122row3_col1\" class=\"data row3 col1\" >44.79%</td>\n",
       "            </tr>\n",
       "            <tr>\n",
       "                        <th id=\"T_ddaf2438_b97f_11ea_a2c2_acde48001122level0_row4\" class=\"row_heading level0 row4\" >25-29</th>\n",
       "                        <td id=\"T_ddaf2438_b97f_11ea_a2c2_acde48001122row4_col0\" class=\"data row4 col0\" >77</td>\n",
       "                        <td id=\"T_ddaf2438_b97f_11ea_a2c2_acde48001122row4_col1\" class=\"data row4 col1\" >13.37%</td>\n",
       "            </tr>\n",
       "            <tr>\n",
       "                        <th id=\"T_ddaf2438_b97f_11ea_a2c2_acde48001122level0_row5\" class=\"row_heading level0 row5\" >30-34</th>\n",
       "                        <td id=\"T_ddaf2438_b97f_11ea_a2c2_acde48001122row5_col0\" class=\"data row5 col0\" >52</td>\n",
       "                        <td id=\"T_ddaf2438_b97f_11ea_a2c2_acde48001122row5_col1\" class=\"data row5 col1\" >9.03%</td>\n",
       "            </tr>\n",
       "            <tr>\n",
       "                        <th id=\"T_ddaf2438_b97f_11ea_a2c2_acde48001122level0_row6\" class=\"row_heading level0 row6\" >35-39</th>\n",
       "                        <td id=\"T_ddaf2438_b97f_11ea_a2c2_acde48001122row6_col0\" class=\"data row6 col0\" >31</td>\n",
       "                        <td id=\"T_ddaf2438_b97f_11ea_a2c2_acde48001122row6_col1\" class=\"data row6 col1\" >5.38%</td>\n",
       "            </tr>\n",
       "            <tr>\n",
       "                        <th id=\"T_ddaf2438_b97f_11ea_a2c2_acde48001122level0_row7\" class=\"row_heading level0 row7\" >40+</th>\n",
       "                        <td id=\"T_ddaf2438_b97f_11ea_a2c2_acde48001122row7_col0\" class=\"data row7 col0\" >12</td>\n",
       "                        <td id=\"T_ddaf2438_b97f_11ea_a2c2_acde48001122row7_col1\" class=\"data row7 col1\" >2.08%</td>\n",
       "            </tr>\n",
       "    </tbody></table>"
      ],
      "text/plain": [
       "<pandas.io.formats.style.Styler at 0x7fde2014deb8>"
      ]
     },
     "execution_count": 7,
     "metadata": {},
     "output_type": "execute_result"
    }
   ],
   "source": [
    "#Create my bins and ages: the bins will the be age ranges and the names will be the titles of the age ranges\n",
    "agebins = [0, 9, 14, 19, 24, 29, 34, 39, 99]\n",
    "group_names = [\"<10\", \"10-14\", \"15-19\", \"20-24\", \"25-29\",\"30-34\",\"35-39\",\"40+\"]\n",
    "#I want to use my nodups_df, create a new column and essentially append the column of 'Age' and have them placed\n",
    "#into the age buckets I created. The age buckets do not have a title in the homework so I am making them = '' \n",
    "#I am using the hint and doing the pd.cut method\n",
    "nodups_df[''] = pd.cut(nodups_df['Age'], agebins, labels=group_names)\n",
    "#Here I will need to groupby my newly created column--this is like the gender count above so I will also need\n",
    "#some variables within the groupby to get my count and percentage\n",
    "groupbyage_df = nodups_df.groupby('')\n",
    "tc = groupbyage_df[\"Age\"].count()\n",
    "percp = tc/genders*100\n",
    "agedemo_df = pd.DataFrame({'Total Count': tc,'Percentage of Players':percp})\n",
    "#Clean the column\n",
    "agedemo_df.style.format({'Percentage of Players':\"{:.2f}%\"})"
   ]
  },
  {
   "cell_type": "code",
   "execution_count": 8,
   "metadata": {},
   "outputs": [],
   "source": [
    "# CHALLENGE 6: Purchasing Analysis (Age)\n",
    "    #Bin the purchase_data data frame by age\n",
    "    #Run basic calculations to obtain purchase count, avg. purchase price, avg. purchase total per person etc. in the table below\n",
    "    #Create a summary data frame to hold the results\n",
    "    #Optional: give the displayed data cleaner formatting\n",
    "    #Display the summary data frame"
   ]
  },
  {
   "cell_type": "code",
   "execution_count": 9,
   "metadata": {},
   "outputs": [
    {
     "data": {
      "text/html": [
       "<style  type=\"text/css\" >\n",
       "</style><table id=\"T_ddb8ecde_b97f_11ea_b338_acde48001122\" ><thead>    <tr>        <th class=\"blank level0\" ></th>        <th class=\"col_heading level0 col0\" >Purchase Count</th>        <th class=\"col_heading level0 col1\" >Average Purchase Price</th>        <th class=\"col_heading level0 col2\" >Total Purchase Value</th>        <th class=\"col_heading level0 col3\" >Avg Total Purchase per Person</th>    </tr>    <tr>        <th class=\"index_name level0\" >Age Ranges</th>        <th class=\"blank\" ></th>        <th class=\"blank\" ></th>        <th class=\"blank\" ></th>        <th class=\"blank\" ></th>    </tr></thead><tbody>\n",
       "                <tr>\n",
       "                        <th id=\"T_ddb8ecde_b97f_11ea_b338_acde48001122level0_row0\" class=\"row_heading level0 row0\" ><10</th>\n",
       "                        <td id=\"T_ddb8ecde_b97f_11ea_b338_acde48001122row0_col0\" class=\"data row0 col0\" >23</td>\n",
       "                        <td id=\"T_ddb8ecde_b97f_11ea_b338_acde48001122row0_col1\" class=\"data row0 col1\" >$3.35</td>\n",
       "                        <td id=\"T_ddb8ecde_b97f_11ea_b338_acde48001122row0_col2\" class=\"data row0 col2\" >$77.13</td>\n",
       "                        <td id=\"T_ddb8ecde_b97f_11ea_b338_acde48001122row0_col3\" class=\"data row0 col3\" >$4.54</td>\n",
       "            </tr>\n",
       "            <tr>\n",
       "                        <th id=\"T_ddb8ecde_b97f_11ea_b338_acde48001122level0_row1\" class=\"row_heading level0 row1\" >10-14</th>\n",
       "                        <td id=\"T_ddb8ecde_b97f_11ea_b338_acde48001122row1_col0\" class=\"data row1 col0\" >28</td>\n",
       "                        <td id=\"T_ddb8ecde_b97f_11ea_b338_acde48001122row1_col1\" class=\"data row1 col1\" >$2.96</td>\n",
       "                        <td id=\"T_ddb8ecde_b97f_11ea_b338_acde48001122row1_col2\" class=\"data row1 col2\" >$82.78</td>\n",
       "                        <td id=\"T_ddb8ecde_b97f_11ea_b338_acde48001122row1_col3\" class=\"data row1 col3\" >$3.76</td>\n",
       "            </tr>\n",
       "            <tr>\n",
       "                        <th id=\"T_ddb8ecde_b97f_11ea_b338_acde48001122level0_row2\" class=\"row_heading level0 row2\" >15-19</th>\n",
       "                        <td id=\"T_ddb8ecde_b97f_11ea_b338_acde48001122row2_col0\" class=\"data row2 col0\" >136</td>\n",
       "                        <td id=\"T_ddb8ecde_b97f_11ea_b338_acde48001122row2_col1\" class=\"data row2 col1\" >$3.04</td>\n",
       "                        <td id=\"T_ddb8ecde_b97f_11ea_b338_acde48001122row2_col2\" class=\"data row2 col2\" >$412.89</td>\n",
       "                        <td id=\"T_ddb8ecde_b97f_11ea_b338_acde48001122row2_col3\" class=\"data row2 col3\" >$3.86</td>\n",
       "            </tr>\n",
       "            <tr>\n",
       "                        <th id=\"T_ddb8ecde_b97f_11ea_b338_acde48001122level0_row3\" class=\"row_heading level0 row3\" >20-24</th>\n",
       "                        <td id=\"T_ddb8ecde_b97f_11ea_b338_acde48001122row3_col0\" class=\"data row3 col0\" >365</td>\n",
       "                        <td id=\"T_ddb8ecde_b97f_11ea_b338_acde48001122row3_col1\" class=\"data row3 col1\" >$3.05</td>\n",
       "                        <td id=\"T_ddb8ecde_b97f_11ea_b338_acde48001122row3_col2\" class=\"data row3 col2\" >$1,114.06</td>\n",
       "                        <td id=\"T_ddb8ecde_b97f_11ea_b338_acde48001122row3_col3\" class=\"data row3 col3\" >$4.32</td>\n",
       "            </tr>\n",
       "            <tr>\n",
       "                        <th id=\"T_ddb8ecde_b97f_11ea_b338_acde48001122level0_row4\" class=\"row_heading level0 row4\" >25-29</th>\n",
       "                        <td id=\"T_ddb8ecde_b97f_11ea_b338_acde48001122row4_col0\" class=\"data row4 col0\" >101</td>\n",
       "                        <td id=\"T_ddb8ecde_b97f_11ea_b338_acde48001122row4_col1\" class=\"data row4 col1\" >$2.90</td>\n",
       "                        <td id=\"T_ddb8ecde_b97f_11ea_b338_acde48001122row4_col2\" class=\"data row4 col2\" >$293.00</td>\n",
       "                        <td id=\"T_ddb8ecde_b97f_11ea_b338_acde48001122row4_col3\" class=\"data row4 col3\" >$3.81</td>\n",
       "            </tr>\n",
       "            <tr>\n",
       "                        <th id=\"T_ddb8ecde_b97f_11ea_b338_acde48001122level0_row5\" class=\"row_heading level0 row5\" >30-34</th>\n",
       "                        <td id=\"T_ddb8ecde_b97f_11ea_b338_acde48001122row5_col0\" class=\"data row5 col0\" >73</td>\n",
       "                        <td id=\"T_ddb8ecde_b97f_11ea_b338_acde48001122row5_col1\" class=\"data row5 col1\" >$2.93</td>\n",
       "                        <td id=\"T_ddb8ecde_b97f_11ea_b338_acde48001122row5_col2\" class=\"data row5 col2\" >$214.00</td>\n",
       "                        <td id=\"T_ddb8ecde_b97f_11ea_b338_acde48001122row5_col3\" class=\"data row5 col3\" >$4.12</td>\n",
       "            </tr>\n",
       "            <tr>\n",
       "                        <th id=\"T_ddb8ecde_b97f_11ea_b338_acde48001122level0_row6\" class=\"row_heading level0 row6\" >35-39</th>\n",
       "                        <td id=\"T_ddb8ecde_b97f_11ea_b338_acde48001122row6_col0\" class=\"data row6 col0\" >41</td>\n",
       "                        <td id=\"T_ddb8ecde_b97f_11ea_b338_acde48001122row6_col1\" class=\"data row6 col1\" >$3.60</td>\n",
       "                        <td id=\"T_ddb8ecde_b97f_11ea_b338_acde48001122row6_col2\" class=\"data row6 col2\" >$147.67</td>\n",
       "                        <td id=\"T_ddb8ecde_b97f_11ea_b338_acde48001122row6_col3\" class=\"data row6 col3\" >$4.76</td>\n",
       "            </tr>\n",
       "            <tr>\n",
       "                        <th id=\"T_ddb8ecde_b97f_11ea_b338_acde48001122level0_row7\" class=\"row_heading level0 row7\" >40+</th>\n",
       "                        <td id=\"T_ddb8ecde_b97f_11ea_b338_acde48001122row7_col0\" class=\"data row7 col0\" >13</td>\n",
       "                        <td id=\"T_ddb8ecde_b97f_11ea_b338_acde48001122row7_col1\" class=\"data row7 col1\" >$2.94</td>\n",
       "                        <td id=\"T_ddb8ecde_b97f_11ea_b338_acde48001122row7_col2\" class=\"data row7 col2\" >$38.24</td>\n",
       "                        <td id=\"T_ddb8ecde_b97f_11ea_b338_acde48001122row7_col3\" class=\"data row7 col3\" >$3.19</td>\n",
       "            </tr>\n",
       "    </tbody></table>"
      ],
      "text/plain": [
       "<pandas.io.formats.style.Styler at 0x7fde21066358>"
      ]
     },
     "execution_count": 9,
     "metadata": {},
     "output_type": "execute_result"
    }
   ],
   "source": [
    "#This activity is going to be similar to gender purchase analysis with the same breakdown of variables within \n",
    "# a groupby. \n",
    "agebins2 = [0, 9, 14, 19, 24, 29, 34, 39, 99]\n",
    "group_names2 = [\"<10\", \"10-14\", \"15-19\", \"20-24\", \"25-29\",\"30-34\",\"35-39\",\"40+\"]\n",
    "games_df['Age Ranges'] = pd.cut(games_df['Age'], agebins2, labels=group_names2)\n",
    "# I will need to do another groupby \n",
    "groupbyage2 = games_df.groupby('Age Ranges')\n",
    "# Variables and formulas from my Groupby\n",
    "agetc2 = groupbyage2['Age'].count()\n",
    "agetpv = groupbyage2['Price'].sum()\n",
    "ageavepurch = agetpv/agetc2\n",
    "totalageavepurch = agetpv / tc\n",
    "agedemo2_df = pd.DataFrame({'Purchase Count': agetc2,\"Average Purchase Price\": ageavepurch,\n",
    "                            'Total Purchase Value':agetpv,'Avg Total Purchase per Person':totalageavepurch})\n",
    "#Clean up the dataframe\n",
    "agedemo2_df.style.format({\"Average Purchase Price\":\"${:,.2f}\",'Total Purchase Value':\"${:,.2f}\", \n",
    "                          'Avg Total Purchase per Person':\"${:,.2f}\"})"
   ]
  },
  {
   "cell_type": "code",
   "execution_count": 10,
   "metadata": {},
   "outputs": [],
   "source": [
    "# CHALLENGE 7:  Top Spenders\n",
    "    #Run basic calculations to obtain the results in the table below\n",
    "    #Create a summary data frame to hold the results\n",
    "    #Sort the total purchase value column in descending order\n",
    "    #Optional: give the displayed data cleaner formatting\n",
    "    #Display a preview of the summary data frame"
   ]
  },
  {
   "cell_type": "code",
   "execution_count": 11,
   "metadata": {},
   "outputs": [
    {
     "data": {
      "text/html": [
       "<style  type=\"text/css\" >\n",
       "    #T_ddc36a74_b97f_11ea_8e5c_acde48001122row0_col2 {\n",
       "            width:  10em;\n",
       "             height:  80%;\n",
       "            background:  linear-gradient(90deg,lightgreen 100.0%, transparent 100.0%);\n",
       "        }    #T_ddc36a74_b97f_11ea_8e5c_acde48001122row1_col2 {\n",
       "            width:  10em;\n",
       "             height:  80%;\n",
       "            background:  linear-gradient(90deg,lightgreen 40.1%, transparent 40.1%);\n",
       "        }    #T_ddc36a74_b97f_11ea_8e5c_acde48001122row2_col2 {\n",
       "            width:  10em;\n",
       "             height:  80%;\n",
       "            background:  linear-gradient(90deg,lightgreen 12.5%, transparent 12.5%);\n",
       "        }    #T_ddc36a74_b97f_11ea_8e5c_acde48001122row3_col2 {\n",
       "            width:  10em;\n",
       "             height:  80%;\n",
       "            background:  linear-gradient(90deg,lightgreen 8.9%, transparent 8.9%);\n",
       "        }    #T_ddc36a74_b97f_11ea_8e5c_acde48001122row4_col2 {\n",
       "            width:  10em;\n",
       "             height:  80%;\n",
       "        }</style><table id=\"T_ddc36a74_b97f_11ea_8e5c_acde48001122\" ><thead>    <tr>        <th class=\"blank level0\" ></th>        <th class=\"col_heading level0 col0\" >Purchase Count</th>        <th class=\"col_heading level0 col1\" >Average Purchase Price</th>        <th class=\"col_heading level0 col2\" >Total Purchase Value</th>    </tr>    <tr>        <th class=\"index_name level0\" >SN</th>        <th class=\"blank\" ></th>        <th class=\"blank\" ></th>        <th class=\"blank\" ></th>    </tr></thead><tbody>\n",
       "                <tr>\n",
       "                        <th id=\"T_ddc36a74_b97f_11ea_8e5c_acde48001122level0_row0\" class=\"row_heading level0 row0\" >Lisosia93</th>\n",
       "                        <td id=\"T_ddc36a74_b97f_11ea_8e5c_acde48001122row0_col0\" class=\"data row0 col0\" >5</td>\n",
       "                        <td id=\"T_ddc36a74_b97f_11ea_8e5c_acde48001122row0_col1\" class=\"data row0 col1\" >$3.79</td>\n",
       "                        <td id=\"T_ddc36a74_b97f_11ea_8e5c_acde48001122row0_col2\" class=\"data row0 col2\" >$18.96</td>\n",
       "            </tr>\n",
       "            <tr>\n",
       "                        <th id=\"T_ddc36a74_b97f_11ea_8e5c_acde48001122level0_row1\" class=\"row_heading level0 row1\" >Idastidru52</th>\n",
       "                        <td id=\"T_ddc36a74_b97f_11ea_8e5c_acde48001122row1_col0\" class=\"data row1 col0\" >4</td>\n",
       "                        <td id=\"T_ddc36a74_b97f_11ea_8e5c_acde48001122row1_col1\" class=\"data row1 col1\" >$3.86</td>\n",
       "                        <td id=\"T_ddc36a74_b97f_11ea_8e5c_acde48001122row1_col2\" class=\"data row1 col2\" >$15.45</td>\n",
       "            </tr>\n",
       "            <tr>\n",
       "                        <th id=\"T_ddc36a74_b97f_11ea_8e5c_acde48001122level0_row2\" class=\"row_heading level0 row2\" >Chamjask73</th>\n",
       "                        <td id=\"T_ddc36a74_b97f_11ea_8e5c_acde48001122row2_col0\" class=\"data row2 col0\" >3</td>\n",
       "                        <td id=\"T_ddc36a74_b97f_11ea_8e5c_acde48001122row2_col1\" class=\"data row2 col1\" >$4.61</td>\n",
       "                        <td id=\"T_ddc36a74_b97f_11ea_8e5c_acde48001122row2_col2\" class=\"data row2 col2\" >$13.83</td>\n",
       "            </tr>\n",
       "            <tr>\n",
       "                        <th id=\"T_ddc36a74_b97f_11ea_8e5c_acde48001122level0_row3\" class=\"row_heading level0 row3\" >Iral74</th>\n",
       "                        <td id=\"T_ddc36a74_b97f_11ea_8e5c_acde48001122row3_col0\" class=\"data row3 col0\" >4</td>\n",
       "                        <td id=\"T_ddc36a74_b97f_11ea_8e5c_acde48001122row3_col1\" class=\"data row3 col1\" >$3.40</td>\n",
       "                        <td id=\"T_ddc36a74_b97f_11ea_8e5c_acde48001122row3_col2\" class=\"data row3 col2\" >$13.62</td>\n",
       "            </tr>\n",
       "            <tr>\n",
       "                        <th id=\"T_ddc36a74_b97f_11ea_8e5c_acde48001122level0_row4\" class=\"row_heading level0 row4\" >Iskadarya95</th>\n",
       "                        <td id=\"T_ddc36a74_b97f_11ea_8e5c_acde48001122row4_col0\" class=\"data row4 col0\" >3</td>\n",
       "                        <td id=\"T_ddc36a74_b97f_11ea_8e5c_acde48001122row4_col1\" class=\"data row4 col1\" >$4.37</td>\n",
       "                        <td id=\"T_ddc36a74_b97f_11ea_8e5c_acde48001122row4_col2\" class=\"data row4 col2\" >$13.10</td>\n",
       "            </tr>\n",
       "    </tbody></table>"
      ],
      "text/plain": [
       "<pandas.io.formats.style.Styler at 0x7fde2104d978>"
      ]
     },
     "execution_count": 11,
     "metadata": {},
     "output_type": "execute_result"
    }
   ],
   "source": [
    "#Group by screen name and display values similar to the above purchase analysis\n",
    "#sort the last column by descending\n",
    "topgroup = games_df.groupby(['SN'])\n",
    "topgrouppc = topgroup['Item Name'].count()\n",
    "topgrouptotal = topgroup['Price'].sum()\n",
    "topgroupavg = topgrouptotal / topgrouppc\n",
    "topspender_df = pd.DataFrame({'Purchase Count': topgrouppc,'Average Purchase Price': topgroupavg,\n",
    "                             'Total Purchase Value': topgrouptotal})\n",
    "#Sort\n",
    "topspender_df.sort_values(by='Total Purchase Value', ascending=False, inplace=True)\n",
    "#Clean--I inserted bar graphs to give a better descending visualization of the data\n",
    "#https://towardsdatascience.com/style-pandas-dataframe-like-a-master-6b02bf6468b0\n",
    "topspender_df.head().style.format({'Average Purchase Price':'${:,.2f}','Total Purchase Value':'${:,.2f}'})\\\n",
    "    .bar(subset=['Total Purchase Value',],color ='lightgreen')"
   ]
  },
  {
   "cell_type": "code",
   "execution_count": 12,
   "metadata": {},
   "outputs": [
    {
     "data": {
      "text/html": [
       "<style  type=\"text/css\" >\n",
       "    #T_ddd0c7e6_b97f_11ea_89f1_acde48001122row0_col0 {\n",
       "            width:  10em;\n",
       "             height:  80%;\n",
       "            background:  linear-gradient(90deg,lightgreen 100.0%, transparent 100.0%);\n",
       "        }    #T_ddd0c7e6_b97f_11ea_89f1_acde48001122row1_col0 {\n",
       "            width:  10em;\n",
       "             height:  80%;\n",
       "            background:  linear-gradient(90deg,lightgreen 75.0%, transparent 75.0%);\n",
       "        }    #T_ddd0c7e6_b97f_11ea_89f1_acde48001122row2_col0 {\n",
       "            width:  10em;\n",
       "             height:  80%;\n",
       "        }    #T_ddd0c7e6_b97f_11ea_89f1_acde48001122row3_col0 {\n",
       "            width:  10em;\n",
       "             height:  80%;\n",
       "        }    #T_ddd0c7e6_b97f_11ea_89f1_acde48001122row4_col0 {\n",
       "            width:  10em;\n",
       "             height:  80%;\n",
       "        }</style><table id=\"T_ddd0c7e6_b97f_11ea_89f1_acde48001122\" ><thead>    <tr>        <th class=\"blank\" ></th>        <th class=\"blank level0\" ></th>        <th class=\"col_heading level0 col0\" >Purchase Count</th>        <th class=\"col_heading level0 col1\" >Item Price</th>        <th class=\"col_heading level0 col2\" >Total Purchase Value</th>    </tr>    <tr>        <th class=\"index_name level0\" >Item ID</th>        <th class=\"index_name level1\" >Item Name</th>        <th class=\"blank\" ></th>        <th class=\"blank\" ></th>        <th class=\"blank\" ></th>    </tr></thead><tbody>\n",
       "                <tr>\n",
       "                        <th id=\"T_ddd0c7e6_b97f_11ea_89f1_acde48001122level0_row0\" class=\"row_heading level0 row0\" >92</th>\n",
       "                        <th id=\"T_ddd0c7e6_b97f_11ea_89f1_acde48001122level1_row0\" class=\"row_heading level1 row0\" >Final Critic</th>\n",
       "                        <td id=\"T_ddd0c7e6_b97f_11ea_89f1_acde48001122row0_col0\" class=\"data row0 col0\" >13</td>\n",
       "                        <td id=\"T_ddd0c7e6_b97f_11ea_89f1_acde48001122row0_col1\" class=\"data row0 col1\" >$4.61</td>\n",
       "                        <td id=\"T_ddd0c7e6_b97f_11ea_89f1_acde48001122row0_col2\" class=\"data row0 col2\" >$59.99</td>\n",
       "            </tr>\n",
       "            <tr>\n",
       "                        <th id=\"T_ddd0c7e6_b97f_11ea_89f1_acde48001122level0_row1\" class=\"row_heading level0 row1\" >178</th>\n",
       "                        <th id=\"T_ddd0c7e6_b97f_11ea_89f1_acde48001122level1_row1\" class=\"row_heading level1 row1\" >Oathbreaker, Last Hope of the Breaking Storm</th>\n",
       "                        <td id=\"T_ddd0c7e6_b97f_11ea_89f1_acde48001122row1_col0\" class=\"data row1 col0\" >12</td>\n",
       "                        <td id=\"T_ddd0c7e6_b97f_11ea_89f1_acde48001122row1_col1\" class=\"data row1 col1\" >$4.23</td>\n",
       "                        <td id=\"T_ddd0c7e6_b97f_11ea_89f1_acde48001122row1_col2\" class=\"data row1 col2\" >$50.76</td>\n",
       "            </tr>\n",
       "            <tr>\n",
       "                        <th id=\"T_ddd0c7e6_b97f_11ea_89f1_acde48001122level0_row2\" class=\"row_heading level0 row2\" >145</th>\n",
       "                        <th id=\"T_ddd0c7e6_b97f_11ea_89f1_acde48001122level1_row2\" class=\"row_heading level1 row2\" >Fiery Glass Crusader</th>\n",
       "                        <td id=\"T_ddd0c7e6_b97f_11ea_89f1_acde48001122row2_col0\" class=\"data row2 col0\" >9</td>\n",
       "                        <td id=\"T_ddd0c7e6_b97f_11ea_89f1_acde48001122row2_col1\" class=\"data row2 col1\" >$4.58</td>\n",
       "                        <td id=\"T_ddd0c7e6_b97f_11ea_89f1_acde48001122row2_col2\" class=\"data row2 col2\" >$41.22</td>\n",
       "            </tr>\n",
       "            <tr>\n",
       "                        <th id=\"T_ddd0c7e6_b97f_11ea_89f1_acde48001122level0_row3\" class=\"row_heading level0 row3\" >132</th>\n",
       "                        <th id=\"T_ddd0c7e6_b97f_11ea_89f1_acde48001122level1_row3\" class=\"row_heading level1 row3\" >Persuasion</th>\n",
       "                        <td id=\"T_ddd0c7e6_b97f_11ea_89f1_acde48001122row3_col0\" class=\"data row3 col0\" >9</td>\n",
       "                        <td id=\"T_ddd0c7e6_b97f_11ea_89f1_acde48001122row3_col1\" class=\"data row3 col1\" >$3.22</td>\n",
       "                        <td id=\"T_ddd0c7e6_b97f_11ea_89f1_acde48001122row3_col2\" class=\"data row3 col2\" >$28.99</td>\n",
       "            </tr>\n",
       "            <tr>\n",
       "                        <th id=\"T_ddd0c7e6_b97f_11ea_89f1_acde48001122level0_row4\" class=\"row_heading level0 row4\" >108</th>\n",
       "                        <th id=\"T_ddd0c7e6_b97f_11ea_89f1_acde48001122level1_row4\" class=\"row_heading level1 row4\" >Extraction, Quickblade Of Trembling Hands</th>\n",
       "                        <td id=\"T_ddd0c7e6_b97f_11ea_89f1_acde48001122row4_col0\" class=\"data row4 col0\" >9</td>\n",
       "                        <td id=\"T_ddd0c7e6_b97f_11ea_89f1_acde48001122row4_col1\" class=\"data row4 col1\" >$3.53</td>\n",
       "                        <td id=\"T_ddd0c7e6_b97f_11ea_89f1_acde48001122row4_col2\" class=\"data row4 col2\" >$31.77</td>\n",
       "            </tr>\n",
       "    </tbody></table>"
      ],
      "text/plain": [
       "<pandas.io.formats.style.Styler at 0x7fde20ff6d68>"
      ]
     },
     "execution_count": 12,
     "metadata": {},
     "output_type": "execute_result"
    }
   ],
   "source": [
    "# CHALLENGE 8: Most Popular Items\n",
    "    #Retrieve the Item ID, Item Name, and Item Price columns\n",
    "    #Group by Item ID and Item Name. Perform calculations to obtain purchase count, item price, \n",
    "    # and total purchase value\n",
    "    #Create a summary data frame to hold the results\n",
    "    #Sort the purchase count column in descending order\n",
    "    #Optional: give the displayed data cleaner formatting\n",
    "    #Display a preview of the summary data frame\n",
    "#Very similar to the above; groupby and variables\n",
    "mostpop = games_df.groupby(['Item ID','Item Name'])\n",
    "itemprice = mostpop['Price'].mean()\n",
    "mostpurch = mostpop['Item Name'].count()\n",
    "totalpvalue = itemprice * mostpurch\n",
    "mostpopitems_df = pd.DataFrame({'Purchase Count':mostpurch,\n",
    "                            'Item Price': itemprice,\n",
    "                            'Total Purchase Value': totalpvalue})\n",
    "#Sort\n",
    "mostpopitems_df.sort_values(by='Purchase Count', ascending = False,inplace=True) \n",
    "#Clean\n",
    "mostpopitems_df.head().style.format({'Item Price':\"${:,.2f}\",'Total Purchase Value': '${:,.2f}'})\\\n",
    "    .bar(subset=['Purchase Count',],color ='lightgreen')"
   ]
  },
  {
   "cell_type": "code",
   "execution_count": 13,
   "metadata": {},
   "outputs": [
    {
     "data": {
      "text/html": [
       "<style  type=\"text/css\" >\n",
       "    #T_ddd96e28_b97f_11ea_a385_acde48001122row0_col2 {\n",
       "            width:  10em;\n",
       "             height:  80%;\n",
       "            background:  linear-gradient(90deg,lightgreen 100.0%, transparent 100.0%);\n",
       "        }    #T_ddd96e28_b97f_11ea_a385_acde48001122row1_col2 {\n",
       "            width:  10em;\n",
       "             height:  80%;\n",
       "            background:  linear-gradient(90deg,lightgreen 63.4%, transparent 63.4%);\n",
       "        }    #T_ddd96e28_b97f_11ea_a385_acde48001122row2_col2 {\n",
       "            width:  10em;\n",
       "             height:  80%;\n",
       "            background:  linear-gradient(90deg,lightgreen 36.9%, transparent 36.9%);\n",
       "        }    #T_ddd96e28_b97f_11ea_a385_acde48001122row3_col2 {\n",
       "            width:  10em;\n",
       "             height:  80%;\n",
       "            background:  linear-gradient(90deg,lightgreen 25.5%, transparent 25.5%);\n",
       "        }    #T_ddd96e28_b97f_11ea_a385_acde48001122row4_col2 {\n",
       "            width:  10em;\n",
       "             height:  80%;\n",
       "        }</style><table id=\"T_ddd96e28_b97f_11ea_a385_acde48001122\" ><thead>    <tr>        <th class=\"blank\" ></th>        <th class=\"blank level0\" ></th>        <th class=\"col_heading level0 col0\" >Purchase Count</th>        <th class=\"col_heading level0 col1\" >Item Price</th>        <th class=\"col_heading level0 col2\" >Total Purchase Value</th>    </tr>    <tr>        <th class=\"index_name level0\" >Item ID</th>        <th class=\"index_name level1\" >Item Name</th>        <th class=\"blank\" ></th>        <th class=\"blank\" ></th>        <th class=\"blank\" ></th>    </tr></thead><tbody>\n",
       "                <tr>\n",
       "                        <th id=\"T_ddd96e28_b97f_11ea_a385_acde48001122level0_row0\" class=\"row_heading level0 row0\" >92</th>\n",
       "                        <th id=\"T_ddd96e28_b97f_11ea_a385_acde48001122level1_row0\" class=\"row_heading level1 row0\" >Final Critic</th>\n",
       "                        <td id=\"T_ddd96e28_b97f_11ea_a385_acde48001122row0_col0\" class=\"data row0 col0\" >13</td>\n",
       "                        <td id=\"T_ddd96e28_b97f_11ea_a385_acde48001122row0_col1\" class=\"data row0 col1\" >$4.61</td>\n",
       "                        <td id=\"T_ddd96e28_b97f_11ea_a385_acde48001122row0_col2\" class=\"data row0 col2\" >$59.99</td>\n",
       "            </tr>\n",
       "            <tr>\n",
       "                        <th id=\"T_ddd96e28_b97f_11ea_a385_acde48001122level0_row1\" class=\"row_heading level0 row1\" >178</th>\n",
       "                        <th id=\"T_ddd96e28_b97f_11ea_a385_acde48001122level1_row1\" class=\"row_heading level1 row1\" >Oathbreaker, Last Hope of the Breaking Storm</th>\n",
       "                        <td id=\"T_ddd96e28_b97f_11ea_a385_acde48001122row1_col0\" class=\"data row1 col0\" >12</td>\n",
       "                        <td id=\"T_ddd96e28_b97f_11ea_a385_acde48001122row1_col1\" class=\"data row1 col1\" >$4.23</td>\n",
       "                        <td id=\"T_ddd96e28_b97f_11ea_a385_acde48001122row1_col2\" class=\"data row1 col2\" >$50.76</td>\n",
       "            </tr>\n",
       "            <tr>\n",
       "                        <th id=\"T_ddd96e28_b97f_11ea_a385_acde48001122level0_row2\" class=\"row_heading level0 row2\" >82</th>\n",
       "                        <th id=\"T_ddd96e28_b97f_11ea_a385_acde48001122level1_row2\" class=\"row_heading level1 row2\" >Nirvana</th>\n",
       "                        <td id=\"T_ddd96e28_b97f_11ea_a385_acde48001122row2_col0\" class=\"data row2 col0\" >9</td>\n",
       "                        <td id=\"T_ddd96e28_b97f_11ea_a385_acde48001122row2_col1\" class=\"data row2 col1\" >$4.90</td>\n",
       "                        <td id=\"T_ddd96e28_b97f_11ea_a385_acde48001122row2_col2\" class=\"data row2 col2\" >$44.10</td>\n",
       "            </tr>\n",
       "            <tr>\n",
       "                        <th id=\"T_ddd96e28_b97f_11ea_a385_acde48001122level0_row3\" class=\"row_heading level0 row3\" >145</th>\n",
       "                        <th id=\"T_ddd96e28_b97f_11ea_a385_acde48001122level1_row3\" class=\"row_heading level1 row3\" >Fiery Glass Crusader</th>\n",
       "                        <td id=\"T_ddd96e28_b97f_11ea_a385_acde48001122row3_col0\" class=\"data row3 col0\" >9</td>\n",
       "                        <td id=\"T_ddd96e28_b97f_11ea_a385_acde48001122row3_col1\" class=\"data row3 col1\" >$4.58</td>\n",
       "                        <td id=\"T_ddd96e28_b97f_11ea_a385_acde48001122row3_col2\" class=\"data row3 col2\" >$41.22</td>\n",
       "            </tr>\n",
       "            <tr>\n",
       "                        <th id=\"T_ddd96e28_b97f_11ea_a385_acde48001122level0_row4\" class=\"row_heading level0 row4\" >103</th>\n",
       "                        <th id=\"T_ddd96e28_b97f_11ea_a385_acde48001122level1_row4\" class=\"row_heading level1 row4\" >Singed Scalpel</th>\n",
       "                        <td id=\"T_ddd96e28_b97f_11ea_a385_acde48001122row4_col0\" class=\"data row4 col0\" >8</td>\n",
       "                        <td id=\"T_ddd96e28_b97f_11ea_a385_acde48001122row4_col1\" class=\"data row4 col1\" >$4.35</td>\n",
       "                        <td id=\"T_ddd96e28_b97f_11ea_a385_acde48001122row4_col2\" class=\"data row4 col2\" >$34.80</td>\n",
       "            </tr>\n",
       "    </tbody></table>"
      ],
      "text/plain": [
       "<pandas.io.formats.style.Styler at 0x7fde20161160>"
      ]
     },
     "execution_count": 13,
     "metadata": {},
     "output_type": "execute_result"
    }
   ],
   "source": [
    "# CHALLENGE 9:  Most Profitable Items\n",
    "#Sort the above table by total purchase value in descending order\n",
    "#Optional: give the displayed data cleaner formatting\n",
    "#Display a preview of the data frame\n",
    "#Same DF as above but I will need to sort by 'Total Purchase Value'\n",
    "mostpopitems_df.sort_values(by='Total Purchase Value', ascending = False, inplace=True) \n",
    "#Clean\n",
    "mostpopitems_df.head().style.format({'Total Purchase Value':\"${:,.2f}\",'Item Price':\"${:,.2f}\"})\\\n",
    "    .bar(subset=['Total Purchase Value',],color ='lightgreen')"
   ]
  },
  {
   "cell_type": "code",
   "execution_count": null,
   "metadata": {},
   "outputs": [],
   "source": []
  }
 ],
 "metadata": {
  "kernelspec": {
   "display_name": "Python 3.6.10 64-bit ('PythonData': conda)",
   "language": "python",
   "name": "python361064bitpythondatacondace2211bfc12e47899cb7e87ecf03a1f4"
  },
  "language_info": {
   "codemirror_mode": {
    "name": "ipython",
    "version": 3
   },
   "file_extension": ".py",
   "mimetype": "text/x-python",
   "name": "python",
   "nbconvert_exporter": "python",
   "pygments_lexer": "ipython3",
   "version": "3.6.10"
  }
 },
 "nbformat": 4,
 "nbformat_minor": 4
}
