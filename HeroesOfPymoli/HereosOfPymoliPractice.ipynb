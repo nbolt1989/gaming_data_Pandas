{
 "cells": [
  {
   "cell_type": "code",
   "execution_count": 67,
   "metadata": {},
   "outputs": [
    {
     "data": {
      "text/plain": [
       "Index(['Purchase ID', 'SN', 'Age', 'Gender', 'Item ID', 'Item Name', 'Price'], dtype='object')"
      ]
     },
     "execution_count": 67,
     "metadata": {},
     "output_type": "execute_result"
    }
   ],
   "source": [
    "# Dependencies and Setup\n",
    "import pandas as pd\n",
    "\n",
    "# File to Load (*Remember to Change These)\n",
    "ogfile = \"Resources/purchase_data.csv\"\n",
    "\n",
    "# Read Purchasing File and store into Pandas data frame\n",
    "gamers_df = pd.read_csv(ogfile)\n",
    "gamers_df.columns #Just want to print out all of the columns so I have them in a list\n",
    "\n",
    "#PC = pseudocode"
   ]
  },
  {
   "cell_type": "code",
   "execution_count": 68,
   "metadata": {},
   "outputs": [
    {
     "data": {
      "text/html": [
       "<div>\n",
       "<style scoped>\n",
       "    .dataframe tbody tr th:only-of-type {\n",
       "        vertical-align: middle;\n",
       "    }\n",
       "\n",
       "    .dataframe tbody tr th {\n",
       "        vertical-align: top;\n",
       "    }\n",
       "\n",
       "    .dataframe thead th {\n",
       "        text-align: right;\n",
       "    }\n",
       "</style>\n",
       "<table border=\"1\" class=\"dataframe\">\n",
       "  <thead>\n",
       "    <tr style=\"text-align: right;\">\n",
       "      <th></th>\n",
       "      <th>Purchase ID</th>\n",
       "      <th>SN</th>\n",
       "      <th>Age</th>\n",
       "      <th>Gender</th>\n",
       "      <th>Item ID</th>\n",
       "      <th>Item Name</th>\n",
       "      <th>Price</th>\n",
       "    </tr>\n",
       "  </thead>\n",
       "  <tbody>\n",
       "    <tr>\n",
       "      <th>0</th>\n",
       "      <td>0</td>\n",
       "      <td>Lisim78</td>\n",
       "      <td>20</td>\n",
       "      <td>Male</td>\n",
       "      <td>108</td>\n",
       "      <td>Extraction, Quickblade Of Trembling Hands</td>\n",
       "      <td>3.53</td>\n",
       "    </tr>\n",
       "    <tr>\n",
       "      <th>1</th>\n",
       "      <td>1</td>\n",
       "      <td>Lisovynya38</td>\n",
       "      <td>40</td>\n",
       "      <td>Male</td>\n",
       "      <td>143</td>\n",
       "      <td>Frenzied Scimitar</td>\n",
       "      <td>1.56</td>\n",
       "    </tr>\n",
       "    <tr>\n",
       "      <th>2</th>\n",
       "      <td>2</td>\n",
       "      <td>Ithergue48</td>\n",
       "      <td>24</td>\n",
       "      <td>Male</td>\n",
       "      <td>92</td>\n",
       "      <td>Final Critic</td>\n",
       "      <td>4.88</td>\n",
       "    </tr>\n",
       "    <tr>\n",
       "      <th>3</th>\n",
       "      <td>3</td>\n",
       "      <td>Chamassasya86</td>\n",
       "      <td>24</td>\n",
       "      <td>Male</td>\n",
       "      <td>100</td>\n",
       "      <td>Blindscythe</td>\n",
       "      <td>3.27</td>\n",
       "    </tr>\n",
       "    <tr>\n",
       "      <th>4</th>\n",
       "      <td>4</td>\n",
       "      <td>Iskosia90</td>\n",
       "      <td>23</td>\n",
       "      <td>Male</td>\n",
       "      <td>131</td>\n",
       "      <td>Fury</td>\n",
       "      <td>1.44</td>\n",
       "    </tr>\n",
       "  </tbody>\n",
       "</table>\n",
       "</div>"
      ],
      "text/plain": [
       "   Purchase ID             SN  Age Gender  Item ID  \\\n",
       "0            0        Lisim78   20   Male      108   \n",
       "1            1    Lisovynya38   40   Male      143   \n",
       "2            2     Ithergue48   24   Male       92   \n",
       "3            3  Chamassasya86   24   Male      100   \n",
       "4            4      Iskosia90   23   Male      131   \n",
       "\n",
       "                                   Item Name  Price  \n",
       "0  Extraction, Quickblade Of Trembling Hands   3.53  \n",
       "1                          Frenzied Scimitar   1.56  \n",
       "2                               Final Critic   4.88  \n",
       "3                                Blindscythe   3.27  \n",
       "4                                       Fury   1.44  "
      ]
     },
     "execution_count": 68,
     "metadata": {},
     "output_type": "execute_result"
    }
   ],
   "source": [
    "# check out the df\n",
    "gamers_df.head()"
   ]
  },
  {
   "cell_type": "code",
   "execution_count": 40,
   "metadata": {},
   "outputs": [
    {
     "data": {
      "text/plain": [
       "array(['Lisim78', 'Lisovynya38', 'Ithergue48', 'Chamassasya86',\n",
       "       'Iskosia90', 'Yalae81', 'Itheria73', 'Iskjaskst81', 'Undjask33',\n",
       "       'Chanosian48', 'Inguron55', 'Haisrisuir60', 'Saelaephos52',\n",
       "       'Assjaskan73', 'Saesrideu94', 'Lisassa64', 'Lisirra25',\n",
       "       'Zontibe81', 'Reunasu60', 'Chamalo71', 'Iathenudil29',\n",
       "       'Phiarithdeu40', 'Siarithria38', 'Eyrian71', 'Siala43',\n",
       "       'Lisirra87', 'Lirtossa84', 'Eusri44', 'Aela59', 'Tyida79',\n",
       "       'Idai61', 'Farusrian86', 'Aeralria27', 'Haillyrgue51', 'Sondim73',\n",
       "       'Jeyciman68', 'Idaisuir85', 'Seuthep89', 'Reulae52',\n",
       "       'Sondilsaya62', 'Aerithriaphos45', 'Assosia88', 'Aidaillodeu39',\n",
       "       'Aelly27', 'Tyeosri53', 'Haerith37', 'Yasrisu92', 'Chanuchi25',\n",
       "       'Asur96', 'Iaralrgue74', 'Chanosia34', 'Aelin32', 'Ilosianya35',\n",
       "       'Zhisrisu83', 'Phaelap26', 'Raesty92', 'Palyon91', 'Tyisur83',\n",
       "       'Yaliru88', 'Yadanu52', 'Jiskimya77', 'Yadaphos40', 'Alo38',\n",
       "       'Phaena87', 'Chamirraya83', 'Chanastsda67', 'Indonmol95',\n",
       "       'Jiskossa61', 'Pheodai94', 'Hari50', 'Marilsa69', 'Assistasda42',\n",
       "       'Lisosia93', 'Philodil43', 'Mindadaran26', 'Lirtosia63',\n",
       "       'Assjaskan56', 'Irithlis29', 'Heudai45', 'Haerithp41', 'Aina42',\n",
       "       'Jiskjask60', 'Umolrian85', 'Qarirwen82', 'Laedallo55',\n",
       "       'Eoralrap26', 'Undosian34', 'Chadolyla44', 'Chadistaya75',\n",
       "       'Yathedeu43', 'Aina43', 'Ilassast39', 'Lisassala98', 'Aiduecal76',\n",
       "       'Chadossa89', 'Pheodaisun84', 'Heollyriap59', 'Maropast28',\n",
       "       'Frichim77', 'Thryallym62', 'Eulanurin88', 'Lassjaskan73',\n",
       "       'Tyaerith73', 'Sondadarya58', 'Hirirap39', 'Ririp86', 'Sundim98',\n",
       "       'Iskichinya81', 'Phyali88', 'Undirrala66', 'Nitherian58',\n",
       "       'Lassilsala30', 'Frichaststa61', 'Frichosia58', 'Ilosia37',\n",
       "       'Lisista27', 'Seudaillorap38', 'Aesty53', 'Yathecal82',\n",
       "       'Lisossanya98', 'Iral74', 'Lisast87', 'Maridisya31', 'Jiskassa76',\n",
       "       'Ethriel85', 'Iskirra45', 'Iri67', 'Rarallo90', 'Lisasi93',\n",
       "       'Adastirin33', 'Eyista89', 'Ili43', 'Chamirra53', 'Hailaphos89',\n",
       "       'Iskadarya95', 'Qilatista90', 'Inasti31', 'Marilsanya48',\n",
       "       'Marjask87', 'Chanjaskan89', 'Hyaduesu61', 'Aillyrin83',\n",
       "       'Marast30', 'Sundadar27', 'Tyaelorap29', 'Lirtimst73',\n",
       "       'Styaduen40', 'Sidap51', 'Chanastst38', 'Lirtassa52', 'Sondim68',\n",
       "       'Aeral97', 'Heosurnuru52', 'Lisopela58', 'Caesrinusuir82',\n",
       "       'Tyirinu79', 'Fironon91', 'Lassjask63', 'Indcil77', 'Chamimla73',\n",
       "       'Syathe73', 'Baelollodeu94', 'Mindista32', 'Saena74',\n",
       "       'Marirrasta50', 'Lamil79', 'Aenarap34', 'Aisur51', 'Thrientossa55',\n",
       "       'Chadista79', 'Tyeurith29', 'Malunil62', 'Hiasri33', 'Lisadar44',\n",
       "       'Frichjask31', 'Lisjaskya84', 'Ristydru66', 'Frichast28',\n",
       "       'Minduri31', 'Maradaran90', 'Mindetosya30', 'Ialallo29',\n",
       "       'Pheusrical25', 'Chanosia60', 'Phistym51', 'Aelollo59',\n",
       "       'Chamimla85', 'Haisurra41', 'Sondastsda82', 'Qilanrion65',\n",
       "       'Eulasuir89', 'Eosrirgue62', 'Shaidanu32', 'Lirtastan49',\n",
       "       'Iaralsuir44', 'Tyeudariasuir90', 'Cosadar58', 'Aelastirin39',\n",
       "       'Aidai53', 'Jiskjask85', 'Ealrion88', 'Chamjask73', 'Tyaenasti87',\n",
       "       'Alim85', 'Haeladil46', 'Jiskirran77', 'Undosia27', 'Peorith44',\n",
       "       'Yarithsurgue62', 'Taeduenu92', 'Rairin89', 'Aerithriaphos46',\n",
       "       'Idairin51', 'Lisista54', 'Eodailis27', 'Lirtastsda29',\n",
       "       'Undilsan50', 'Eodaisu60', 'Quaranmol58', 'Lirtossa60',\n",
       "       'Lirtilsa71', 'Isursuir31', 'Sundirrala66', 'Saerallora71',\n",
       "       'Iasur80', 'Tyaelo67', 'Quanunwen42', 'Yasur35', 'Assehoan67',\n",
       "       'Haellysu29', 'Saida58', 'Chamadar79', 'Aeral43', 'Lirtirra37',\n",
       "       'Tyidaim51', 'Lassassast73', 'Assassasta79', 'Heollyra92',\n",
       "       'Anallorgue57', 'Aerithllora36', 'Smaistysu35', 'Ennalmol65',\n",
       "       'Yarithrgue83', 'Yana46', 'Sondimla25', 'Aidai61', 'Wailin72',\n",
       "       'Firan91', 'Alaesu91', 'Aellynun67', 'Rilaera56', 'Eulaestira36',\n",
       "       'Marim28', 'Idastidru52', 'Ilirrasda54', 'Alaephos75',\n",
       "       'Syalollorap93', 'Minduli80', 'Chanastya70', 'Frichadaran88',\n",
       "       'Siallylis44', 'Aeri84', 'Iasursti71', 'Mindilsa34', 'Chamastya76',\n",
       "       'Undirra73', 'Aestysu37', 'Chadadarla74', 'Strithenu87',\n",
       "       'Iasrira89', 'Ialidru40', 'Tyalaesu89', 'Tyidainu31', 'Lirtilsa72',\n",
       "       'Undjaskla97', 'Saedaiphos46', 'Aerithnucal56', 'Lisossa46',\n",
       "       'Layjask75', 'Lisista63', 'Ceoral34', 'Hilaerin92',\n",
       "       'Chadilsasta32', 'Undassa89', 'Iduenu77', 'Lisosia66',\n",
       "       'Undimsya85', 'Phaedue89', 'Yadacal26', 'Lisossa25', 'Ilmol66',\n",
       "       'Yastyriaphos75', 'Hiasurria41', 'Palatyon26', 'Qilalista41',\n",
       "       'Hada39', 'Chamilsala65', 'Rairith81', 'Ilarin91', 'Ryanara76',\n",
       "       'Undista85', 'Tyeoralru41', 'Pheosrinudeu70', 'Heuli25',\n",
       "       'Pheutherin27', 'Chadirra90', 'Ali84', 'Frichjaskan98', 'Malil90',\n",
       "       'Yarithllodeu72', 'Tyaedainu44', 'Ethron58', 'Eusurdeu49',\n",
       "       'Saistyphos30', 'Saisrilis27', 'Hallysucal81', 'Ilimya66',\n",
       "       'Raysistast71', 'Haedairiadru51', 'Tyananurgue44', 'Risty84',\n",
       "       'Aerillorin70', 'Phistyn52', 'Yalo85', 'Chamirrasya33', 'Hiral75',\n",
       "       'Isursti83', 'Bartassaya73', 'Aeda94', 'Quinarap53', 'Asur53',\n",
       "       'Alarap40', 'Sida61', 'Hiarideu73', 'Lassassasda30', 'Ennoncil86',\n",
       "       'Siralsudeu54', 'Eusri26', 'Ardcil81', 'Marilsasya33', 'Lirtim36',\n",
       "       'Heunadil74', 'Frichadar89', 'Aesurstilis64', 'Idaidil28',\n",
       "       'Lisotesta51', 'Lisico81', 'Lisiriya82', 'Siana77', 'Marokian45',\n",
       "       'Sausosia74', 'Assesi91', 'Eusri70', 'Aisurria69', 'Iarilis73',\n",
       "       'Raisty38', 'Ilista82', 'Leyirra83', 'Aiduesu86', 'Frichynde86',\n",
       "       'Hisridru55', 'Chamossa77', 'Irillo49', 'Lirtastsya71',\n",
       "       'Frichosiala98', 'Qilunan34', 'Quarrion42', 'Aisurdru79',\n",
       "       'Hiaral50', 'Iarallo65', 'Sondassasya91', 'Chanossast57',\n",
       "       'Chanjask65', 'Ethralista69', 'Sondistanya61', 'Eudanu32',\n",
       "       'Euthe35', 'Lassimla92', 'Lisossala30', 'Eulae84', 'Chamadarnya73',\n",
       "       'Eolan54', 'Assistasda90', 'Ennrian78', 'Undirrasta89',\n",
       "       'Rianistast50', 'Undare39', 'Adairialis76', 'Aesur96',\n",
       "       'Tyialisudeu65', 'Arirgue63', 'Sundadarla27', 'Eyircil84', 'Ina92',\n",
       "       'Lirtistanya48', 'Marassa62', 'Mindossa76', 'Salilis27',\n",
       "       'Sondossa69', 'Sundjask71', 'Errian63', 'Eurithphos97',\n",
       "       'Raillydeu47', 'Malon70', 'Jiskimsda56', 'Marughi89', 'Ingatcil75',\n",
       "       'Chanirrasta87', 'Alaesu77', 'Ermol76', 'Tyeuduen32', 'Firon67',\n",
       "       'Iadueria43', 'Pheulidil31', 'Eodairu79', 'Frichocesta66',\n",
       "       'Thourdirra92', 'Chanastnya43', 'Iskim96', 'Eulolis41',\n",
       "       'Sastydeu50', 'Ilaesudil92', 'Yasur85', 'Aidain51',\n",
       "       'Aerithnuphos61', 'Yalostiphos68', 'Meosridil82', 'Aillyriadru65',\n",
       "       'Sally64', 'Lisim51', 'Isurria36', 'Silaera56', 'Leetirraya83',\n",
       "       'Lirtirra81', 'Eryon48', 'Iana95', 'Sondassan80', 'Chanadar44',\n",
       "       'Eosurdru76', 'Shidai42', 'Aesri53', 'Syally44', 'Jiskadarst60',\n",
       "       'Sondadar26', 'Malarrian73', 'Maluncil97', 'Ilunyon70', 'Yadam35',\n",
       "       'Dyally87', 'Pheosurllorin41', 'Frichaya88', 'Lassadarsda57',\n",
       "       'Marynde90', 'Isri34', 'Assastnya25', 'Ardonmol96',\n",
       "       'Lassirrasda85', 'Chadossa56', 'Poshilsa82', 'Yoishirrala98',\n",
       "       'Sundista37', 'Ilassa51', 'Filurarn35', 'Phaestycal84', 'Irilis75',\n",
       "       'Aeralstical35', 'Chanirrala39', 'Chanirra79', 'Assirra56',\n",
       "       'Seolollo93', 'Iathem87', 'Iasurriacal29', 'Lisast98', 'Filrion59',\n",
       "       'Halaecal66', 'Iskosian40', 'Ilastilis78', 'Seosrim97',\n",
       "       'Farrian71', 'Rithe53', 'Frichossala54', 'Chamjaskya75',\n",
       "       'Quanrion96', 'Tyaelaelis94', 'Quanenrian83', 'Chanirra64',\n",
       "       'Yadaisuir65', 'Syathecal44', 'Arin32', 'Aelaria33', 'Assassa81',\n",
       "       'Filrion83', 'Eoral49', 'Airi27', 'Eurisuru25', 'Liawista80',\n",
       "       'Lisirra58', 'Chamadarsda63', 'Haestyphos66', 'Phaedasurap84',\n",
       "       'Mindimnya67', 'Chadjask85', 'Eustyria89', 'Iskim66', 'Chamast86',\n",
       "       'Lirtassan78', 'Ethrasyon38', 'Quilassa66', 'Lisassasda39',\n",
       "       'Mindilsa60', 'Lalossa38', 'Chamistast30', 'Hariphos58',\n",
       "       'Assilsan72', 'Inasuir29', 'Chanilsasda38', 'Mindesi74',\n",
       "       'Ililsan66', 'Idacal95', 'Aeral68', 'Tyarithn67', 'Asty82',\n",
       "       'Yalaeria91', 'Chadjask77', 'Ealiril69', 'Quaecjask96',\n",
       "       'Firatan58', 'Yarolwen77', 'Tyaelistidru84', 'Yarithrin84',\n",
       "       'Tyaelly53', 'Phiristi62', 'Ililsasya43', 'Aithelis62',\n",
       "       'Undotesta33', 'Aelidru27', 'Chanossanya44', 'Maradarnya40',\n",
       "       'Lisilsa62', 'Saena89', 'Chanilsast61', 'Sundassa93', 'Aidai73',\n",
       "       'Indirrian56', 'Lisassasta50', 'Iduelis31', 'Chanosiaya39',\n",
       "       'Assylla81', 'Aidaira26', 'Eudanu84', 'Chamiman85', 'Tyialisti80',\n",
       "       'Marundi65', 'Eusur90', 'Mindirranya33', 'Phiallylis33', 'Isty55',\n",
       "       'Frichilsa31', 'Chanista95', 'Aellyria80', 'Rastynusuir31',\n",
       "       'Iljask75', 'Lisjaskan36', 'Mindjasksya61', 'Frichirranya75',\n",
       "       'Ilast79', 'Eratiel90', 'Assim27', 'Irith83', 'Ilosian36',\n",
       "       'Iskossasda43', 'Hala31', 'Jiskjask80', 'Aethedru70', 'Yathecal72',\n",
       "       'Sisur91'], dtype=object)"
      ]
     },
     "execution_count": 40,
     "metadata": {},
     "output_type": "execute_result"
    }
   ],
   "source": [
    "#---Display the total number of players---#\n",
    "# I want to just see SN as a list\n",
    "gamers_df[\"SN\"].unique() #This is displaying all of the unique number of screennames (SN)"
   ]
  },
  {
   "cell_type": "code",
   "execution_count": 77,
   "metadata": {},
   "outputs": [
    {
     "data": {
      "text/html": [
       "<div>\n",
       "<style scoped>\n",
       "    .dataframe tbody tr th:only-of-type {\n",
       "        vertical-align: middle;\n",
       "    }\n",
       "\n",
       "    .dataframe tbody tr th {\n",
       "        vertical-align: top;\n",
       "    }\n",
       "\n",
       "    .dataframe thead th {\n",
       "        text-align: right;\n",
       "    }\n",
       "</style>\n",
       "<table border=\"1\" class=\"dataframe\">\n",
       "  <thead>\n",
       "    <tr style=\"text-align: right;\">\n",
       "      <th></th>\n",
       "      <th>Purchase ID</th>\n",
       "      <th>SN</th>\n",
       "      <th>Age</th>\n",
       "      <th>Gender</th>\n",
       "      <th>Item ID</th>\n",
       "      <th>Item Name</th>\n",
       "      <th>Price</th>\n",
       "      <th>Total Players</th>\n",
       "    </tr>\n",
       "  </thead>\n",
       "  <tbody>\n",
       "    <tr>\n",
       "      <th>0</th>\n",
       "      <td>0</td>\n",
       "      <td>Lisim78</td>\n",
       "      <td>20</td>\n",
       "      <td>Male</td>\n",
       "      <td>108</td>\n",
       "      <td>Extraction, Quickblade Of Trembling Hands</td>\n",
       "      <td>3.53</td>\n",
       "      <td>576</td>\n",
       "    </tr>\n",
       "    <tr>\n",
       "      <th>1</th>\n",
       "      <td>1</td>\n",
       "      <td>Lisovynya38</td>\n",
       "      <td>40</td>\n",
       "      <td>Male</td>\n",
       "      <td>143</td>\n",
       "      <td>Frenzied Scimitar</td>\n",
       "      <td>1.56</td>\n",
       "      <td>576</td>\n",
       "    </tr>\n",
       "    <tr>\n",
       "      <th>2</th>\n",
       "      <td>2</td>\n",
       "      <td>Ithergue48</td>\n",
       "      <td>24</td>\n",
       "      <td>Male</td>\n",
       "      <td>92</td>\n",
       "      <td>Final Critic</td>\n",
       "      <td>4.88</td>\n",
       "      <td>576</td>\n",
       "    </tr>\n",
       "    <tr>\n",
       "      <th>3</th>\n",
       "      <td>3</td>\n",
       "      <td>Chamassasya86</td>\n",
       "      <td>24</td>\n",
       "      <td>Male</td>\n",
       "      <td>100</td>\n",
       "      <td>Blindscythe</td>\n",
       "      <td>3.27</td>\n",
       "      <td>576</td>\n",
       "    </tr>\n",
       "    <tr>\n",
       "      <th>4</th>\n",
       "      <td>4</td>\n",
       "      <td>Iskosia90</td>\n",
       "      <td>23</td>\n",
       "      <td>Male</td>\n",
       "      <td>131</td>\n",
       "      <td>Fury</td>\n",
       "      <td>1.44</td>\n",
       "      <td>576</td>\n",
       "    </tr>\n",
       "  </tbody>\n",
       "</table>\n",
       "</div>"
      ],
      "text/plain": [
       "   Purchase ID             SN  Age Gender  Item ID  \\\n",
       "0            0        Lisim78   20   Male      108   \n",
       "1            1    Lisovynya38   40   Male      143   \n",
       "2            2     Ithergue48   24   Male       92   \n",
       "3            3  Chamassasya86   24   Male      100   \n",
       "4            4      Iskosia90   23   Male      131   \n",
       "\n",
       "                                   Item Name  Price  Total Players  \n",
       "0  Extraction, Quickblade Of Trembling Hands   3.53            576  \n",
       "1                          Frenzied Scimitar   1.56            576  \n",
       "2                               Final Critic   4.88            576  \n",
       "3                                Blindscythe   3.27            576  \n",
       "4                                       Fury   1.44            576  "
      ]
     },
     "execution_count": 77,
     "metadata": {},
     "output_type": "execute_result"
    }
   ],
   "source": [
    "# PC: I want to find the total number of unique players (SN) without this dataframe. I plan to create\n",
    "# a new variable and set it to find unique players.\n",
    "totalplayers = len(gamers_df[\"SN\"].unique())\n",
    "#I am adding on a new column to the original titled total players. It will be the same for all rows. \n",
    "gamers_df[\"Total Players\"] = totalplayers\n",
    "gamers_df.head()"
   ]
  },
  {
   "cell_type": "code",
   "execution_count": null,
   "metadata": {},
   "outputs": [],
   "source": [
    "# PC: Here I want to display only the total unique players so I am picking out the column \"Total Players\"\n",
    "# and displaying it with a .head(1) to pull the column title, index, and one line."
   ]
  },
  {
   "cell_type": "code",
   "execution_count": 105,
   "metadata": {},
   "outputs": [
    {
     "data": {
      "text/html": [
       "<div>\n",
       "<style scoped>\n",
       "    .dataframe tbody tr th:only-of-type {\n",
       "        vertical-align: middle;\n",
       "    }\n",
       "\n",
       "    .dataframe tbody tr th {\n",
       "        vertical-align: top;\n",
       "    }\n",
       "\n",
       "    .dataframe thead th {\n",
       "        text-align: right;\n",
       "    }\n",
       "</style>\n",
       "<table border=\"1\" class=\"dataframe\">\n",
       "  <thead>\n",
       "    <tr style=\"text-align: right;\">\n",
       "      <th></th>\n",
       "      <th>Total Players</th>\n",
       "    </tr>\n",
       "  </thead>\n",
       "  <tbody>\n",
       "    <tr>\n",
       "      <th>0</th>\n",
       "      <td>780</td>\n",
       "    </tr>\n",
       "  </tbody>\n",
       "</table>\n",
       "</div>"
      ],
      "text/plain": [
       "   Total Players\n",
       "0            780"
      ]
     },
     "execution_count": 105,
     "metadata": {},
     "output_type": "execute_result"
    }
   ],
   "source": [
    "players = {'Total Players': [gamers_df['SN'].count()]}\n",
    "players_count = pd.DataFrame(players)\n",
    "players_count"
   ]
  },
  {
   "cell_type": "code",
   "execution_count": null,
   "metadata": {},
   "outputs": [],
   "source": [
    "#---Purchasing Analysis (Total)---#\n",
    "#Run basic calculations to obtain number of unique items, average price, etc\n",
    "#Create a summary data frame to hold the results\n",
    "#Optional: give the displayed data cleaner formatting\n",
    "#Display the summary data frame"
   ]
  },
  {
   "cell_type": "code",
   "execution_count": null,
   "metadata": {},
   "outputs": [],
   "source": [
    "# PC:\n",
    "# I need to establish the formulas as variables and place them into a dictionary.\n",
    "# a few of these will need to be ints and the others will be floats"
   ]
  },
  {
   "cell_type": "code",
   "execution_count": 46,
   "metadata": {},
   "outputs": [],
   "source": [
    "\n",
    "items = int(len(gamers_df[\"Item Name\"].unique()))\n",
    "prices = float(round(gamers_df[\"Price\"].mean(),2))\n",
    "purchases = int(len(gamers_df[\"Purchase ID\"]))\n",
    "revenue = float(gamers_df[\"Price\"].sum())\n",
    "#newdictionary = {'Number of Unique Items':items}"
   ]
  },
  {
   "cell_type": "code",
   "execution_count": null,
   "metadata": {},
   "outputs": [],
   "source": [
    "#PC: I now want to create a dictionary with new column titles for each new variable; the variables will be the \n",
    "#the values. I will then create a new dataframe and assign the new dictionary to it. This is similar to \n",
    "#the breakout where we create a dictionary of states and abbreviations. \n",
    "    #I need to f string a few items since we need to display $ signs. "
   ]
  },
  {
   "cell_type": "code",
   "execution_count": 11,
   "metadata": {},
   "outputs": [
    {
     "data": {
      "text/html": [
       "<div>\n",
       "<style scoped>\n",
       "    .dataframe tbody tr th:only-of-type {\n",
       "        vertical-align: middle;\n",
       "    }\n",
       "\n",
       "    .dataframe tbody tr th {\n",
       "        vertical-align: top;\n",
       "    }\n",
       "\n",
       "    .dataframe thead th {\n",
       "        text-align: right;\n",
       "    }\n",
       "</style>\n",
       "<table border=\"1\" class=\"dataframe\">\n",
       "  <thead>\n",
       "    <tr style=\"text-align: right;\">\n",
       "      <th></th>\n",
       "      <th>Number of Unique Items</th>\n",
       "      <th>Average Price</th>\n",
       "      <th>Number of Purchases</th>\n",
       "      <th>Total Revenue</th>\n",
       "    </tr>\n",
       "  </thead>\n",
       "  <tbody>\n",
       "    <tr>\n",
       "      <th>0</th>\n",
       "      <td>179</td>\n",
       "      <td>$3.05</td>\n",
       "      <td>780</td>\n",
       "      <td>$ 2379.77</td>\n",
       "    </tr>\n",
       "  </tbody>\n",
       "</table>\n",
       "</div>"
      ],
      "text/plain": [
       "   Number of Unique Items Average Price  Number of Purchases Total Revenue\n",
       "0                     179         $3.05                  780     $ 2379.77"
      ]
     },
     "execution_count": 11,
     "metadata": {},
     "output_type": "execute_result"
    }
   ],
   "source": [
    "newdict = [{'Number of Unique Items': items, \"Average Price\": (f'${prices}'), \n",
    "           \"Number of Purchases\": purchases,  \"Total Revenue\": (f'$ {revenue}')}]\n",
    "newdata_df = pd.DataFrame(newdict)\n",
    "newdata_df"
   ]
  },
  {
   "cell_type": "code",
   "execution_count": null,
   "metadata": {},
   "outputs": [],
   "source": [
    "#Gender Demographics\n",
    "    #Percentage and Count of Male Players\n",
    "    #Percentage and Count of Female Players\n",
    "    #Percentage and Count of Other / Non-Disclosed\n",
    "#PC: I am going to need to pull this from gamers_df and create new variables with formulas. I can then create a new\n",
    "#dataframe but then I will need to reassign the genders to the indexes (this will be like the phonebook activity)"
   ]
  },
  {
   "cell_type": "code",
   "execution_count": 8,
   "metadata": {},
   "outputs": [],
   "source": [
    "genders = len(gamers_df[\"Gender\"])\n",
    "male = len(gamers_df.loc[gamers_df[\"Gender\"] == 'Male'])\n",
    "female = len(gamers_df.loc[gamers_df[\"Gender\"] == 'Female'])\n",
    "nondisc = len(gamers_df.loc[gamers_df[\"Gender\"] == 'Other / Non-Disclosed'])\n",
    "# Formula from variables\n",
    "maleper = float((male / genders) * 100)\n",
    "femper = float((female / genders) *100)\n",
    "nondiscper = float((nondisc / genders) *100)"
   ]
  },
  {
   "cell_type": "code",
   "execution_count": 9,
   "metadata": {},
   "outputs": [
    {
     "name": "stdout",
     "output_type": "stream",
     "text": [
      "         Column 1\n",
      "                 \n",
      "Apples        1.0\n",
      "Oranges       2.0\n",
      "Puppies       3.0\n",
      "Ducks         4.0\n"
     ]
    }
   ],
   "source": [
    "#practice:\n",
    "#dictionary = {'': ['Apples', 'Oranges', 'Puppies', 'Ducks'],'Column 1': [1.0, 2.0, 3.0, 4.0]}\n",
    "#df = pd.DataFrame(dictionary).set_index('')\n",
    "#print (df)\n",
    "#print (df.index.name)\n",
    "#Index Title\n",
    "#print (df.columns.name)\n",
    "#None"
   ]
  },
  {
   "cell_type": "code",
   "execution_count": 107,
   "metadata": {},
   "outputs": [],
   "source": [
    "players_by_gender = gamers_df['Gender'].value_counts()\n",
    "players_by_gender_df = pd.DataFrame(players_by_gender)"
   ]
  },
  {
   "cell_type": "code",
   "execution_count": 79,
   "metadata": {},
   "outputs": [
    {
     "data": {
      "text/html": [
       "<div>\n",
       "<style scoped>\n",
       "    .dataframe tbody tr th:only-of-type {\n",
       "        vertical-align: middle;\n",
       "    }\n",
       "\n",
       "    .dataframe tbody tr th {\n",
       "        vertical-align: top;\n",
       "    }\n",
       "\n",
       "    .dataframe thead th {\n",
       "        text-align: right;\n",
       "    }\n",
       "</style>\n",
       "<table border=\"1\" class=\"dataframe\">\n",
       "  <thead>\n",
       "    <tr style=\"text-align: right;\">\n",
       "      <th></th>\n",
       "      <th>Total Count</th>\n",
       "      <th>Percentage of Players</th>\n",
       "    </tr>\n",
       "    <tr>\n",
       "      <th></th>\n",
       "      <th></th>\n",
       "      <th></th>\n",
       "    </tr>\n",
       "  </thead>\n",
       "  <tbody>\n",
       "    <tr>\n",
       "      <th>Male</th>\n",
       "      <td>652</td>\n",
       "      <td>83.59</td>\n",
       "    </tr>\n",
       "    <tr>\n",
       "      <th>Female</th>\n",
       "      <td>113</td>\n",
       "      <td>14.49</td>\n",
       "    </tr>\n",
       "    <tr>\n",
       "      <th>Other / Non-Disclosed</th>\n",
       "      <td>15</td>\n",
       "      <td>1.92</td>\n",
       "    </tr>\n",
       "  </tbody>\n",
       "</table>\n",
       "</div>"
      ],
      "text/plain": [
       "                       Total Count  Percentage of Players\n",
       "                                                         \n",
       "Male                           652                  83.59\n",
       "Female                         113                  14.49\n",
       "Other / Non-Disclosed           15                   1.92"
      ]
     },
     "execution_count": 79,
     "metadata": {},
     "output_type": "execute_result"
    }
   ],
   "source": [
    "# New dataframe containing the new variables \n",
    "genderdict = {'': ['Male', 'Female', 'Other / Non-Disclosed'],'Total Count': [male,female,nondisc],\n",
    "            'Percentage of Players': [round((maleper),2),round((femper),2),round((nondiscper),2)]}\n",
    "            \n",
    "genderdata_df = pd.DataFrame(genderdict).set_index('')\n",
    "genderdata_df.head()\n",
    "#new_df = genderdata_df.set_index('')\n",
    "#new_df\n",
    "       \n",
    "#newgenderdata_df = genderdata_df.set_index(['Male'])\n",
    "#newgenderdata_df\n",
    "#gendercounts = gamers_df[\"Gender\"].value_counts()\n",
    "#gendercounts.head()\n",
    "#groupedgender_df = gamers_df.groupby([\"Gender\"])\n",
    "#groupedgender_df.head()"
   ]
  },
  {
   "cell_type": "code",
   "execution_count": null,
   "metadata": {},
   "outputs": [],
   "source": []
  },
  {
   "cell_type": "code",
   "execution_count": 81,
   "metadata": {},
   "outputs": [],
   "source": [
    "# My variables for my next genderdictionary2 - I will likely need to groupby here. "
   ]
  },
  {
   "cell_type": "code",
   "execution_count": 104,
   "metadata": {},
   "outputs": [
    {
     "data": {
      "text/plain": [
       "2379.77"
      ]
     },
     "execution_count": 104,
     "metadata": {},
     "output_type": "execute_result"
    }
   ],
   "source": [
    "gamers_df[\"Gender\"].value_counts()\n",
    "gamers_df[\"Price\"].mean()\n",
    "gamers_df['Price'].sum()\n"
   ]
  },
  {
   "cell_type": "code",
   "execution_count": null,
   "metadata": {},
   "outputs": [],
   "source": [
    "#Age Demographics\n",
    "    #Establish bins for ages\n",
    "    #Categorize the existing players using the age bins. Hint: use pd.cut()\n",
    "    #Calculate the numbers and percentages by age group\n",
    "    #Create a summary data frame to hold the results\n",
    "        #Optional: round the percentage column to two decimal points\n",
    "        #Display Age Demographics Table"
   ]
  },
  {
   "cell_type": "code",
   "execution_count": null,
   "metadata": {},
   "outputs": [],
   "source": []
  },
  {
   "cell_type": "code",
   "execution_count": null,
   "metadata": {},
   "outputs": [],
   "source": [
    "#Purchasing Analysis (Age)\n",
    "    #Bin the purchase_data data frame by age\n",
    "    #Run basic calculations to obtain purchase count, avg. purchase price, avg. purchase total per person etc. \n",
    "    #in the table below\n",
    "    #Create a summary data frame to hold the results\n",
    "       #Optional: give the displayed data cleaner formatting\n",
    "        #Display the summary data frame"
   ]
  },
  {
   "cell_type": "code",
   "execution_count": null,
   "metadata": {},
   "outputs": [],
   "source": []
  },
  {
   "cell_type": "code",
   "execution_count": null,
   "metadata": {},
   "outputs": [],
   "source": [
    "#Top Spenders\n",
    "    #Run basic calculations to obtain the results in the table below\n",
    "    #Create a summary data frame to hold the results\n",
    "    #Sort the total purchase value column in descending order\n",
    "        #Optional: give the displayed data cleaner formatting\n",
    "        #Display a preview of the summary data frame"
   ]
  },
  {
   "cell_type": "code",
   "execution_count": null,
   "metadata": {},
   "outputs": [],
   "source": []
  },
  {
   "cell_type": "code",
   "execution_count": null,
   "metadata": {},
   "outputs": [],
   "source": [
    "#Most Popular Items\n",
    "    #Retrieve the Item ID, Item Name, and Item Price columns\n",
    "    #Group by Item ID and Item Name. Perform calculations to obtain purchase count, item price, and total purchase value\n",
    "    #Create a summary data frame to hold the results\n",
    "    #Sort the purchase count column in descending order\n",
    "        #Optional: give the displayed data cleaner formatting\n",
    "        #Display a preview of the summary data frame"
   ]
  },
  {
   "cell_type": "code",
   "execution_count": null,
   "metadata": {},
   "outputs": [],
   "source": []
  },
  {
   "cell_type": "code",
   "execution_count": null,
   "metadata": {},
   "outputs": [],
   "source": [
    "#Most Profitable Items\n",
    "    #Sort the above table by total purchase value in descending order\n",
    "        #Optional: give the displayed data cleaner formatting\n",
    "        #Display a preview of the data frame"
   ]
  },
  {
   "cell_type": "code",
   "execution_count": null,
   "metadata": {},
   "outputs": [],
   "source": []
  },
  {
   "cell_type": "code",
   "execution_count": null,
   "metadata": {},
   "outputs": [],
   "source": []
  }
 ],
 "metadata": {
  "kernelspec": {
   "display_name": "Python [conda env:PythonData] *",
   "language": "python",
   "name": "conda-env-PythonData-py"
  },
  "language_info": {
   "codemirror_mode": {
    "name": "ipython",
    "version": 3
   },
   "file_extension": ".py",
   "mimetype": "text/x-python",
   "name": "python",
   "nbconvert_exporter": "python",
   "pygments_lexer": "ipython3",
   "version": "3.6.10"
  }
 },
 "nbformat": 4,
 "nbformat_minor": 4
}
